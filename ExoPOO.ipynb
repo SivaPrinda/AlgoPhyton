{
 "cells": [
  {
   "cell_type": "markdown",
   "id": "loving-review",
   "metadata": {},
   "source": [
    "# Exercices de POO"
   ]
  },
  {
   "cell_type": "markdown",
   "id": "velvet-pollution",
   "metadata": {},
   "source": [
    "## Le compte bancaire"
   ]
  },
  {
   "cell_type": "code",
   "execution_count": 44,
   "id": "certain-massage",
   "metadata": {},
   "outputs": [],
   "source": [
    "class CompteBancaire:\n",
    "        \n",
    "    def __init__(self, nom=\"Dupont\", solde=1000):\n",
    "        self.nom = nom\n",
    "        self.solde = solde\n",
    "    \n",
    "    def depot(self, soldeDepot):\n",
    "        self.solde += soldeDepot\n",
    "        print(self.solde)\n",
    "    \n",
    "    def retrait(self, soldeRetrait):\n",
    "        self.solde -= soldeRetrait\n",
    "        print(self.solde)\n",
    "    \n",
    "    def affiche(self):\n",
    "        print(\"Le solde du compte bancaire de \"+ self.nom + \" est de \" + str(self.solde) + \" euros.\")\n",
    "    "
   ]
  },
  {
   "cell_type": "code",
   "execution_count": 45,
   "id": "surface-absolute",
   "metadata": {},
   "outputs": [],
   "source": [
    "compte1 = CompteBancaire(\"Duchmol\",800)"
   ]
  },
  {
   "cell_type": "code",
   "execution_count": 46,
   "id": "assured-attachment",
   "metadata": {},
   "outputs": [
    {
     "name": "stdout",
     "output_type": "stream",
     "text": [
      "1150\n"
     ]
    }
   ],
   "source": [
    "compte1.depot(350)"
   ]
  },
  {
   "cell_type": "code",
   "execution_count": 47,
   "id": "cross-rates",
   "metadata": {},
   "outputs": [
    {
     "name": "stdout",
     "output_type": "stream",
     "text": [
      "950\n"
     ]
    }
   ],
   "source": [
    "compte1.retrait(200)"
   ]
  },
  {
   "cell_type": "code",
   "execution_count": 48,
   "id": "loose-siemens",
   "metadata": {},
   "outputs": [
    {
     "name": "stdout",
     "output_type": "stream",
     "text": [
      "Le solde du compte bancaire de Duchmol est de 950 euros.\n"
     ]
    }
   ],
   "source": [
    "compte1.affiche()"
   ]
  },
  {
   "cell_type": "code",
   "execution_count": 49,
   "id": "requested-insured",
   "metadata": {},
   "outputs": [],
   "source": [
    "compte2 = CompteBancaire()"
   ]
  },
  {
   "cell_type": "code",
   "execution_count": 50,
   "id": "formed-football",
   "metadata": {},
   "outputs": [
    {
     "name": "stdout",
     "output_type": "stream",
     "text": [
      "1025\n"
     ]
    }
   ],
   "source": [
    "compte2.depot(25)"
   ]
  },
  {
   "cell_type": "code",
   "execution_count": 51,
   "id": "completed-hungary",
   "metadata": {},
   "outputs": [
    {
     "name": "stdout",
     "output_type": "stream",
     "text": [
      "Le solde du compte bancaire de Dupont est de 1025 euros.\n"
     ]
    }
   ],
   "source": [
    "compte2.affiche()"
   ]
  },
  {
   "cell_type": "markdown",
   "id": "satisfied-chance",
   "metadata": {},
   "source": [
    "## La surcharge d'opérateur"
   ]
  },
  {
   "cell_type": "code",
   "execution_count": 78,
   "id": "present-ontario",
   "metadata": {},
   "outputs": [],
   "source": [
    "class Point:\n",
    "    \n",
    "    def __init__(self, x, y, z=0):\n",
    "        self.x = x\n",
    "        self.y = y\n",
    "        self.z = z\n",
    "    \n",
    "    def ToString(self):\n",
    "        if(self.z==0):\n",
    "            return \"P( {:.2f}, {:.2f})\".format(self.x,self.y)\n",
    "        else:\n",
    "            return \"P( {:.2f}, {:.2f}, {:.2f})\".format(self.x,self.y,self.z)"
   ]
  },
  {
   "cell_type": "code",
   "execution_count": 73,
   "id": "julian-killing",
   "metadata": {},
   "outputs": [],
   "source": [
    "point = Point(2,3)"
   ]
  },
  {
   "cell_type": "code",
   "execution_count": 74,
   "id": "entitled-worry",
   "metadata": {},
   "outputs": [
    {
     "data": {
      "text/plain": [
       "'P( 2.00, 3.00)'"
      ]
     },
     "execution_count": 74,
     "metadata": {},
     "output_type": "execute_result"
    }
   ],
   "source": [
    "point.ToString()"
   ]
  },
  {
   "cell_type": "code",
   "execution_count": 75,
   "id": "obvious-portable",
   "metadata": {},
   "outputs": [],
   "source": [
    "point1 = Point(2,3,4)"
   ]
  },
  {
   "cell_type": "code",
   "execution_count": 76,
   "id": "dirty-librarian",
   "metadata": {},
   "outputs": [
    {
     "data": {
      "text/plain": [
       "'P( 2.00, 3.00, 4.00)'"
      ]
     },
     "execution_count": 76,
     "metadata": {},
     "output_type": "execute_result"
    }
   ],
   "source": [
    "point1.ToString()"
   ]
  },
  {
   "cell_type": "markdown",
   "id": "premium-findings",
   "metadata": {},
   "source": [
    "### correction"
   ]
  },
  {
   "cell_type": "code",
   "execution_count": null,
   "id": "accompanied-cameroon",
   "metadata": {},
   "outputs": [],
   "source": [
    "class Point:\n",
    "    \n",
    "    def __init__(self, x, y, z = None):\n",
    "        self.x = x\n",
    "        self.y = y\n",
    "        self.z = z \n",
    "    \n",
    "    def ToString(self):\n",
    "        if(self.z==None):\n",
    "            return \"P( {:.2f}, {:.2f})\".format(self.x,self.y)\n",
    "        else:\n",
    "            return \"P( {:.2f}, {:.2f}, {:.2f})\".format(self.x,self.y,self.z)"
   ]
  },
  {
   "cell_type": "markdown",
   "id": "second-backing",
   "metadata": {},
   "source": [
    "## L'héritage simple"
   ]
  },
  {
   "cell_type": "code",
   "execution_count": 81,
   "id": "public-journalist",
   "metadata": {},
   "outputs": [],
   "source": [
    "class DateNaissance:\n",
    "    \n",
    "    def __init__(self,day,month,year):\n",
    "        self.day = day\n",
    "        self.month = month\n",
    "        self.year = year\n",
    "    \n",
    "    def ToString(self):\n",
    "        return \"{}/{}/{}\".format(self.day,self.month,self.year)"
   ]
  },
  {
   "cell_type": "code",
   "execution_count": 89,
   "id": "national-youth",
   "metadata": {},
   "outputs": [],
   "source": [
    "class Personne(DateNaissance):\n",
    "    \n",
    "    def __int__(self,nom,prenom):\n",
    "        self.nom = nom\n",
    "        self.prenom = prenom\n",
    "    \n",
    "    def afficher(self):\n",
    "        return \"Nom:{}  Prénom:{}  Date de naissance:{}\".format(self.nom,self.prenom,DateNaissance.ToString(self))\n"
   ]
  },
  {
   "cell_type": "code",
   "execution_count": 90,
   "id": "previous-ethics",
   "metadata": {},
   "outputs": [],
   "source": [
    "P=Personne(\"Ilyass\",\"Math\",DateNaissance(1,7,1982))"
   ]
  },
  {
   "cell_type": "code",
   "execution_count": 91,
   "id": "remarkable-guidance",
   "metadata": {},
   "outputs": [
    {
     "ename": "AttributeError",
     "evalue": "'Personne' object has no attribute 'nom'",
     "output_type": "error",
     "traceback": [
      "\u001b[0;31m---------------------------------------------------------------------------\u001b[0m",
      "\u001b[0;31mAttributeError\u001b[0m                            Traceback (most recent call last)",
      "\u001b[0;32m<ipython-input-91-6af936b50703>\u001b[0m in \u001b[0;36m<module>\u001b[0;34m\u001b[0m\n\u001b[0;32m----> 1\u001b[0;31m \u001b[0mP\u001b[0m\u001b[0;34m.\u001b[0m\u001b[0mafficher\u001b[0m\u001b[0;34m(\u001b[0m\u001b[0;34m)\u001b[0m\u001b[0;34m\u001b[0m\u001b[0;34m\u001b[0m\u001b[0m\n\u001b[0m",
      "\u001b[0;32m<ipython-input-89-42219754dcf1>\u001b[0m in \u001b[0;36mafficher\u001b[0;34m(self)\u001b[0m\n\u001b[1;32m      6\u001b[0m \u001b[0;34m\u001b[0m\u001b[0m\n\u001b[1;32m      7\u001b[0m     \u001b[0;32mdef\u001b[0m \u001b[0mafficher\u001b[0m\u001b[0;34m(\u001b[0m\u001b[0mself\u001b[0m\u001b[0;34m)\u001b[0m\u001b[0;34m:\u001b[0m\u001b[0;34m\u001b[0m\u001b[0;34m\u001b[0m\u001b[0m\n\u001b[0;32m----> 8\u001b[0;31m         \u001b[0;32mreturn\u001b[0m \u001b[0;34m\"Nom:{}  Prénom:{}  Date de naissance:{}\"\u001b[0m\u001b[0;34m.\u001b[0m\u001b[0mformat\u001b[0m\u001b[0;34m(\u001b[0m\u001b[0mself\u001b[0m\u001b[0;34m.\u001b[0m\u001b[0mnom\u001b[0m\u001b[0;34m,\u001b[0m\u001b[0mself\u001b[0m\u001b[0;34m.\u001b[0m\u001b[0mprenom\u001b[0m\u001b[0;34m,\u001b[0m\u001b[0mDateNaissance\u001b[0m\u001b[0;34m.\u001b[0m\u001b[0mToString\u001b[0m\u001b[0;34m(\u001b[0m\u001b[0mself\u001b[0m\u001b[0;34m)\u001b[0m\u001b[0;34m)\u001b[0m\u001b[0;34m\u001b[0m\u001b[0;34m\u001b[0m\u001b[0m\n\u001b[0m",
      "\u001b[0;31mAttributeError\u001b[0m: 'Personne' object has no attribute 'nom'"
     ]
    }
   ],
   "source": [
    "P.afficher()"
   ]
  },
  {
   "cell_type": "code",
   "execution_count": null,
   "id": "historic-student",
   "metadata": {},
   "outputs": [],
   "source": []
  }
 ],
 "metadata": {
  "kernelspec": {
   "display_name": "Python 3",
   "language": "python",
   "name": "python3"
  },
  "language_info": {
   "codemirror_mode": {
    "name": "ipython",
    "version": 3
   },
   "file_extension": ".py",
   "mimetype": "text/x-python",
   "name": "python",
   "nbconvert_exporter": "python",
   "pygments_lexer": "ipython3",
   "version": "3.8.2"
  }
 },
 "nbformat": 4,
 "nbformat_minor": 5
}
