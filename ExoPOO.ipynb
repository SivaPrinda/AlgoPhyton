{
 "cells": [
  {
   "cell_type": "markdown",
   "id": "collected-aspect",
   "metadata": {},
   "source": [
    "# Exercices de POO"
   ]
  },
  {
   "cell_type": "markdown",
   "id": "maritime-riding",
   "metadata": {},
   "source": [
    "## Le compte bancaire"
   ]
  },
  {
   "cell_type": "code",
   "execution_count": 44,
   "id": "civil-husband",
   "metadata": {},
   "outputs": [],
   "source": [
    "class CompteBancaire:\n",
    "        \n",
    "    def __init__(self, nom=\"Dupont\", solde=1000):\n",
    "        self.nom = nom\n",
    "        self.solde = solde\n",
    "    \n",
    "    def depot(self, soldeDepot):\n",
    "        self.solde += soldeDepot\n",
    "        print(self.solde)\n",
    "    \n",
    "    def retrait(self, soldeRetrait):\n",
    "        self.solde -= soldeRetrait\n",
    "        print(self.solde)\n",
    "    \n",
    "    def affiche(self):\n",
    "        print(\"Le solde du compte bancaire de \"+ self.nom + \" est de \" + str(self.solde) + \" euros.\")\n",
    "    "
   ]
  },
  {
   "cell_type": "code",
   "execution_count": 45,
   "id": "twelve-timing",
   "metadata": {},
   "outputs": [],
   "source": [
    "compte1 = CompteBancaire(\"Duchmol\",800)"
   ]
  },
  {
   "cell_type": "code",
   "execution_count": 46,
   "id": "reasonable-advocacy",
   "metadata": {},
   "outputs": [
    {
     "name": "stdout",
     "output_type": "stream",
     "text": [
      "1150\n"
     ]
    }
   ],
   "source": [
    "compte1.depot(350)"
   ]
  },
  {
   "cell_type": "code",
   "execution_count": 47,
   "id": "instrumental-waters",
   "metadata": {},
   "outputs": [
    {
     "name": "stdout",
     "output_type": "stream",
     "text": [
      "950\n"
     ]
    }
   ],
   "source": [
    "compte1.retrait(200)"
   ]
  },
  {
   "cell_type": "code",
   "execution_count": 48,
   "id": "correct-apparel",
   "metadata": {},
   "outputs": [
    {
     "name": "stdout",
     "output_type": "stream",
     "text": [
      "Le solde du compte bancaire de Duchmol est de 950 euros.\n"
     ]
    }
   ],
   "source": [
    "compte1.affiche()"
   ]
  },
  {
   "cell_type": "code",
   "execution_count": 49,
   "id": "present-title",
   "metadata": {},
   "outputs": [],
   "source": [
    "compte2 = CompteBancaire()"
   ]
  },
  {
   "cell_type": "code",
   "execution_count": 50,
   "id": "legitimate-truck",
   "metadata": {},
   "outputs": [
    {
     "name": "stdout",
     "output_type": "stream",
     "text": [
      "1025\n"
     ]
    }
   ],
   "source": [
    "compte2.depot(25)"
   ]
  },
  {
   "cell_type": "code",
   "execution_count": 51,
   "id": "passing-somewhere",
   "metadata": {},
   "outputs": [
    {
     "name": "stdout",
     "output_type": "stream",
     "text": [
      "Le solde du compte bancaire de Dupont est de 1025 euros.\n"
     ]
    }
   ],
   "source": [
    "compte2.affiche()"
   ]
  },
  {
   "cell_type": "markdown",
   "id": "fundamental-singles",
   "metadata": {},
   "source": [
    "## La surcharge d'opérateur"
   ]
  },
  {
   "cell_type": "code",
   "execution_count": 78,
   "id": "sharing-weather",
   "metadata": {},
   "outputs": [],
   "source": [
    "class Point:\n",
    "    \n",
    "    def __init__(self, x, y, z=0):\n",
    "        self.x = x\n",
    "        self.y = y\n",
    "        self.z = z\n",
    "    \n",
    "    def ToString(self):\n",
    "        if(self.z==0):\n",
    "            return \"P( {:.2f}, {:.2f})\".format(self.x,self.y)\n",
    "        else:\n",
    "            return \"P( {:.2f}, {:.2f}, {:.2f})\".format(self.x,self.y,self.z)"
   ]
  },
  {
   "cell_type": "code",
   "execution_count": 73,
   "id": "demanding-samoa",
   "metadata": {},
   "outputs": [],
   "source": [
    "point = Point(2,3)"
   ]
  },
  {
   "cell_type": "code",
   "execution_count": 74,
   "id": "adjusted-howard",
   "metadata": {},
   "outputs": [
    {
     "data": {
      "text/plain": [
       "'P( 2.00, 3.00)'"
      ]
     },
     "execution_count": 74,
     "metadata": {},
     "output_type": "execute_result"
    }
   ],
   "source": [
    "point.ToString()"
   ]
  },
  {
   "cell_type": "code",
   "execution_count": 75,
   "id": "difficult-tampa",
   "metadata": {},
   "outputs": [],
   "source": [
    "point1 = Point(2,3,4)"
   ]
  },
  {
   "cell_type": "code",
   "execution_count": 76,
   "id": "radical-calibration",
   "metadata": {},
   "outputs": [
    {
     "data": {
      "text/plain": [
       "'P( 2.00, 3.00, 4.00)'"
      ]
     },
     "execution_count": 76,
     "metadata": {},
     "output_type": "execute_result"
    }
   ],
   "source": [
    "point1.ToString()"
   ]
  },
  {
   "cell_type": "markdown",
   "id": "endless-charles",
   "metadata": {},
   "source": [
    "### correction"
   ]
  },
  {
   "cell_type": "code",
   "execution_count": null,
   "id": "united-warner",
   "metadata": {},
   "outputs": [],
   "source": [
    "class Point:\n",
    "    \n",
    "    def __init__(self, x, y, z = None):\n",
    "        self.x = x\n",
    "        self.y = y\n",
    "        self.z = z \n",
    "    \n",
    "    def ToString(self):\n",
    "        if(self.z==None):\n",
    "            return \"P( {:.2f}, {:.2f})\".format(self.x,self.y)\n",
    "        else:\n",
    "            return \"P( {:.2f}, {:.2f}, {:.2f})\".format(self.x,self.y,self.z)"
   ]
  },
  {
   "cell_type": "markdown",
   "id": "polish-while",
   "metadata": {},
   "source": [
    "## L'héritage simple"
   ]
  },
  {
   "cell_type": "code",
   "execution_count": 173,
   "id": "outside-madonna",
   "metadata": {},
   "outputs": [],
   "source": [
    "class DateNaissance:\n",
    "    \n",
    "    def __init__(self,day,month,year):\n",
    "        self.day = day\n",
    "        self.month = month\n",
    "        self.year = year\n",
    "    \n",
    "    def ToString(self):\n",
    "        return \"{:0>2d}/{:0>2d}/{}\".format(self.day,self.month,self.year)"
   ]
  },
  {
   "cell_type": "code",
   "execution_count": 174,
   "id": "honey-reflection",
   "metadata": {},
   "outputs": [],
   "source": [
    "class Personne(DateNaissance):\n",
    "    \n",
    "    def __init__(self,nom,prenom,dateOfbirth):\n",
    "        self.nom = nom\n",
    "        self.prenom = prenom\n",
    "        self.DateNaissance = dateOfbirth\n",
    "    \n",
    "    def __repr__(self):\n",
    "        return \" Nom: {} \\n Prénom: {} \\n Date de naissance: {}\".format(self.nom,self.prenom,self.DateNaissance.ToString())\n",
    "        "
   ]
  },
  {
   "cell_type": "code",
   "execution_count": 175,
   "id": "apparent-prayer",
   "metadata": {},
   "outputs": [],
   "source": [
    "class Employe(Personne):\n",
    "    \n",
    "    def __init__(self,personne,salaire):\n",
    "        self.Personne = personne\n",
    "        self.salaire = salaire\n",
    "    \n",
    "    def __repr__(self):\n",
    "        return \"{} \\n Salaire: {:.2f}\".format(self.Personne,self.salaire)\n",
    "        "
   ]
  },
  {
   "cell_type": "code",
   "execution_count": 180,
   "id": "exclusive-footage",
   "metadata": {},
   "outputs": [],
   "source": [
    "class Chef(Employe):\n",
    "    \n",
    "    def __init__(self,employe,service):\n",
    "        self.Employe = employe\n",
    "        self.service = service\n",
    "    \n",
    "    def __repr__(self):\n",
    "        return \"{} \\n Service: {}\".format(self.Employe,self.service)"
   ]
  },
  {
   "cell_type": "code",
   "execution_count": 181,
   "id": "colonial-invasion",
   "metadata": {},
   "outputs": [
    {
     "data": {
      "text/plain": [
       " Nom: Ilyass \n",
       " Prénom: Math \n",
       " Date de naissance: 01/07/1982"
      ]
     },
     "execution_count": 181,
     "metadata": {},
     "output_type": "execute_result"
    }
   ],
   "source": [
    "Personne(\"Ilyass\",\"Math\",DateNaissance(1,7,1982))"
   ]
  },
  {
   "cell_type": "code",
   "execution_count": 182,
   "id": "aware-terrace",
   "metadata": {},
   "outputs": [
    {
     "data": {
      "text/plain": [
       " Nom: Ilyass \n",
       " Prénom: Math \n",
       " Date de naissance: 01/07/1982 \n",
       " Salaire: 7865.55"
      ]
     },
     "execution_count": 182,
     "metadata": {},
     "output_type": "execute_result"
    }
   ],
   "source": [
    "Employe(Personne(\"Ilyass\",\"Math\",DateNaissance(1,7,1982)),7865.55)"
   ]
  },
  {
   "cell_type": "code",
   "execution_count": 183,
   "id": "close-superior",
   "metadata": {},
   "outputs": [
    {
     "data": {
      "text/plain": [
       " Nom: Ilyass \n",
       " Prénom: Math \n",
       " Date de naissance: 01/07/1982 \n",
       " Salaire: 7865.55 \n",
       " Service: Ressource humaine"
      ]
     },
     "execution_count": 183,
     "metadata": {},
     "output_type": "execute_result"
    }
   ],
   "source": [
    "Chef(Employe(Personne(\"Ilyass\",\"Math\",DateNaissance(1,7,1982)),7865.55),\"Ressource humaine\")"
   ]
  },
  {
   "cell_type": "markdown",
   "id": "beginning-laugh",
   "metadata": {},
   "source": [
    "## Le polymorphisme"
   ]
  },
  {
   "cell_type": "code",
   "execution_count": 232,
   "id": "amber-watershed",
   "metadata": {},
   "outputs": [],
   "source": [
    "class Courrier:\n",
    "    \n",
    "    def __init__(self,adrDest,adrExp,poids,mode):\n",
    "        self.adrDest = adrDest\n",
    "        self.adrExp = adrExp\n",
    "        self.poids = poids\n",
    "        self.mode = mode\n",
    "    \n",
    "    def __repr__(self):\n",
    "        return \"Adresse destination: {} \\n Adress expedition: {} \\n Poids: {:.2f} grammes \\n Mode: {}\".format(self.adrDest,self.adrExp,self.poids,self.mode) "
   ]
  },
  {
   "cell_type": "code",
   "execution_count": 233,
   "id": "noticed-endorsement",
   "metadata": {},
   "outputs": [],
   "source": [
    "class Lettre(Courrier):\n",
    "    \n",
    "    def __init__(self,courrier,formatPapier):\n",
    "        self.Courrier = courrier\n",
    "        self.formatPapier = formatPapier\n",
    "    \n",
    "    def __repr__(self):\n",
    "        if self.formatPapier == \"A3\":\n",
    "            montant = 3.50 + 1 * self.Courrier.poids\n",
    "        elif self.formatPapier == \"A4\":\n",
    "            montant = 2.50 + 1 * self.Courrier.poids\n",
    "        if(self.Courrier.mode == \"express\"):\n",
    "            montant = montant * 2\n",
    "        return \" Lettre: \\n {} \\n Format: {} \\n Prix du timbre: {}\".format(self.Courrier,self.formatPapier,montant)\n",
    "        "
   ]
  },
  {
   "cell_type": "code",
   "execution_count": 237,
   "id": "elementary-anthropology",
   "metadata": {},
   "outputs": [],
   "source": [
    "class Colis(Courrier):\n",
    "    \n",
    "    def __init__(self,courrier,volume):\n",
    "        self.Courrier = courrier\n",
    "        self.volume = volume\n",
    "    \n",
    "    def __repr__(self):\n",
    "        montant=0.25*self.volume*self.Courrier.poids/1000\n",
    "        if(self.Courrier.mode == \"express\"):\n",
    "            montant = montant * 2\n",
    "        return \" Colis: \\n {} \\n Volume: {} \\n Prix du timbre: {}\".format(self.Courrier,self.volume,montant)\n"
   ]
  },
  {
   "cell_type": "code",
   "execution_count": 238,
   "id": "attached-transsexual",
   "metadata": {},
   "outputs": [
    {
     "data": {
      "text/plain": [
       " Lettre: \n",
       " Adresse destination: Lille \n",
       " Adress expedition: Paris \n",
       " Poids: 80.00 grammes \n",
       " Mode: normal \n",
       " Format: A4 \n",
       " Prix du timbre: 82.5"
      ]
     },
     "execution_count": 238,
     "metadata": {},
     "output_type": "execute_result"
    }
   ],
   "source": [
    "L1=Lettre(Courrier(\"Lille\",\"Paris\",80,\"normal\"),\"A4\")\n",
    "L1"
   ]
  },
  {
   "cell_type": "code",
   "execution_count": 239,
   "id": "pending-category",
   "metadata": {},
   "outputs": [
    {
     "data": {
      "text/plain": [
       " Colis: \n",
       " Adresse destination: Marrakeche \n",
       " Adress expedition: Barcelone \n",
       " Poids: 3500.00 grammes \n",
       " Mode: expresse \n",
       " Volume: 2.25 \n",
       " Prix du timbre: 1.96875"
      ]
     },
     "execution_count": 239,
     "metadata": {},
     "output_type": "execute_result"
    }
   ],
   "source": [
    "C1=Colis(Courrier(\"Marrakeche\",\"Barcelone\",3500,\"expresse\"),2.25)\n",
    "C1"
   ]
  },
  {
   "cell_type": "code",
   "execution_count": null,
   "id": "variable-median",
   "metadata": {},
   "outputs": [],
   "source": []
  }
 ],
 "metadata": {
  "kernelspec": {
   "display_name": "Python 3",
   "language": "python",
   "name": "python3"
  },
  "language_info": {
   "codemirror_mode": {
    "name": "ipython",
    "version": 3
   },
   "file_extension": ".py",
   "mimetype": "text/x-python",
   "name": "python",
   "nbconvert_exporter": "python",
   "pygments_lexer": "ipython3",
   "version": "3.8.2"
  }
 },
 "nbformat": 4,
 "nbformat_minor": 5
}
