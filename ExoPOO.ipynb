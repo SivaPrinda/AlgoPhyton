{
 "cells": [
  {
   "cell_type": "markdown",
   "id": "experimental-married",
   "metadata": {},
   "source": [
    "# Exercices de POO"
   ]
  },
  {
   "cell_type": "markdown",
   "id": "working-shelf",
   "metadata": {},
   "source": [
    "## Le compte bancaire"
   ]
  },
  {
   "cell_type": "code",
   "execution_count": 44,
   "id": "shaped-perspective",
   "metadata": {},
   "outputs": [],
   "source": [
    "class CompteBancaire:\n",
    "        \n",
    "    def __init__(self, nom=\"Dupont\", solde=1000):\n",
    "        self.nom = nom\n",
    "        self.solde = solde\n",
    "    \n",
    "    def depot(self, soldeDepot):\n",
    "        self.solde += soldeDepot\n",
    "        print(self.solde)\n",
    "    \n",
    "    def retrait(self, soldeRetrait):\n",
    "        self.solde -= soldeRetrait\n",
    "        print(self.solde)\n",
    "    \n",
    "    def affiche(self):\n",
    "        print(\"Le solde du compte bancaire de \"+ self.nom + \" est de \" + str(self.solde) + \" euros.\")\n",
    "    "
   ]
  },
  {
   "cell_type": "code",
   "execution_count": 45,
   "id": "gothic-reverse",
   "metadata": {},
   "outputs": [],
   "source": [
    "compte1 = CompteBancaire(\"Duchmol\",800)"
   ]
  },
  {
   "cell_type": "code",
   "execution_count": 46,
   "id": "unauthorized-transparency",
   "metadata": {},
   "outputs": [
    {
     "name": "stdout",
     "output_type": "stream",
     "text": [
      "1150\n"
     ]
    }
   ],
   "source": [
    "compte1.depot(350)"
   ]
  },
  {
   "cell_type": "code",
   "execution_count": 47,
   "id": "light-simulation",
   "metadata": {},
   "outputs": [
    {
     "name": "stdout",
     "output_type": "stream",
     "text": [
      "950\n"
     ]
    }
   ],
   "source": [
    "compte1.retrait(200)"
   ]
  },
  {
   "cell_type": "code",
   "execution_count": 48,
   "id": "german-lindsay",
   "metadata": {},
   "outputs": [
    {
     "name": "stdout",
     "output_type": "stream",
     "text": [
      "Le solde du compte bancaire de Duchmol est de 950 euros.\n"
     ]
    }
   ],
   "source": [
    "compte1.affiche()"
   ]
  },
  {
   "cell_type": "code",
   "execution_count": 49,
   "id": "weird-objective",
   "metadata": {},
   "outputs": [],
   "source": [
    "compte2 = CompteBancaire()"
   ]
  },
  {
   "cell_type": "code",
   "execution_count": 50,
   "id": "rotary-tobago",
   "metadata": {},
   "outputs": [
    {
     "name": "stdout",
     "output_type": "stream",
     "text": [
      "1025\n"
     ]
    }
   ],
   "source": [
    "compte2.depot(25)"
   ]
  },
  {
   "cell_type": "code",
   "execution_count": 51,
   "id": "boring-uniform",
   "metadata": {},
   "outputs": [
    {
     "name": "stdout",
     "output_type": "stream",
     "text": [
      "Le solde du compte bancaire de Dupont est de 1025 euros.\n"
     ]
    }
   ],
   "source": [
    "compte2.affiche()"
   ]
  },
  {
   "cell_type": "markdown",
   "id": "declared-tunnel",
   "metadata": {},
   "source": [
    "## La surcharge d'opérateur"
   ]
  },
  {
   "cell_type": "code",
   "execution_count": 78,
   "id": "overall-horizon",
   "metadata": {},
   "outputs": [],
   "source": [
    "class Point:\n",
    "    \n",
    "    def __init__(self, x, y, z=0):\n",
    "        self.x = x\n",
    "        self.y = y\n",
    "        self.z = z\n",
    "    \n",
    "    def ToString(self):\n",
    "        if(self.z==0):\n",
    "            return \"P( {:.2f}, {:.2f})\".format(self.x,self.y)\n",
    "        else:\n",
    "            return \"P( {:.2f}, {:.2f}, {:.2f})\".format(self.x,self.y,self.z)"
   ]
  },
  {
   "cell_type": "code",
   "execution_count": 73,
   "id": "analyzed-mainland",
   "metadata": {},
   "outputs": [],
   "source": [
    "point = Point(2,3)"
   ]
  },
  {
   "cell_type": "code",
   "execution_count": 74,
   "id": "sitting-offering",
   "metadata": {},
   "outputs": [
    {
     "data": {
      "text/plain": [
       "'P( 2.00, 3.00)'"
      ]
     },
     "execution_count": 74,
     "metadata": {},
     "output_type": "execute_result"
    }
   ],
   "source": [
    "point.ToString()"
   ]
  },
  {
   "cell_type": "code",
   "execution_count": 75,
   "id": "different-relay",
   "metadata": {},
   "outputs": [],
   "source": [
    "point1 = Point(2,3,4)"
   ]
  },
  {
   "cell_type": "code",
   "execution_count": 76,
   "id": "invalid-casino",
   "metadata": {},
   "outputs": [
    {
     "data": {
      "text/plain": [
       "'P( 2.00, 3.00, 4.00)'"
      ]
     },
     "execution_count": 76,
     "metadata": {},
     "output_type": "execute_result"
    }
   ],
   "source": [
    "point1.ToString()"
   ]
  },
  {
   "cell_type": "markdown",
   "id": "concrete-excerpt",
   "metadata": {},
   "source": [
    "### correction"
   ]
  },
  {
   "cell_type": "code",
   "execution_count": null,
   "id": "meaningful-aggregate",
   "metadata": {},
   "outputs": [],
   "source": [
    "class Point:\n",
    "    \n",
    "    def __init__(self, x, y, z = None):\n",
    "        self.x = x\n",
    "        self.y = y\n",
    "        self.z = z \n",
    "    \n",
    "    def ToString(self):\n",
    "        if(self.z==None):\n",
    "            return \"P( {:.2f}, {:.2f})\".format(self.x,self.y)\n",
    "        else:\n",
    "            return \"P( {:.2f}, {:.2f}, {:.2f})\".format(self.x,self.y,self.z)"
   ]
  },
  {
   "cell_type": "markdown",
   "id": "burning-color",
   "metadata": {},
   "source": [
    "## L'héritage simple"
   ]
  },
  {
   "cell_type": "code",
   "execution_count": 173,
   "id": "cooperative-lingerie",
   "metadata": {},
   "outputs": [],
   "source": [
    "class DateNaissance:\n",
    "    \n",
    "    def __init__(self,day,month,year):\n",
    "        self.day = day\n",
    "        self.month = month\n",
    "        self.year = year\n",
    "    \n",
    "    def ToString(self):\n",
    "        return \"{:0>2d}/{:0>2d}/{}\".format(self.day,self.month,self.year)"
   ]
  },
  {
   "cell_type": "code",
   "execution_count": 174,
   "id": "advanced-ready",
   "metadata": {},
   "outputs": [],
   "source": [
    "class Personne(DateNaissance):\n",
    "    \n",
    "    def __init__(self,nom,prenom,dateOfbirth):\n",
    "        self.nom = nom\n",
    "        self.prenom = prenom\n",
    "        self.DateNaissance = dateOfbirth\n",
    "    \n",
    "    def __repr__(self):\n",
    "        return \" Nom: {} \\n Prénom: {} \\n Date de naissance: {}\".format(self.nom,self.prenom,self.DateNaissance.ToString())\n",
    "        "
   ]
  },
  {
   "cell_type": "code",
   "execution_count": 175,
   "id": "graduate-desktop",
   "metadata": {},
   "outputs": [],
   "source": [
    "class Employe(Personne):\n",
    "    \n",
    "    def __init__(self,personne,salaire):\n",
    "        self.Personne = personne\n",
    "        self.salaire = salaire\n",
    "    \n",
    "    def __repr__(self):\n",
    "        return \"{} \\n Salaire: {:.2f}\".format(self.Personne,self.salaire)\n",
    "        "
   ]
  },
  {
   "cell_type": "code",
   "execution_count": 180,
   "id": "expensive-median",
   "metadata": {},
   "outputs": [],
   "source": [
    "class Chef(Employe):\n",
    "    \n",
    "    def __init__(self,employe,service):\n",
    "        self.Employe = employe\n",
    "        self.service = service\n",
    "    \n",
    "    def __repr__(self):\n",
    "        return \"{} \\n Service: {}\".format(self.Employe,self.service)"
   ]
  },
  {
   "cell_type": "code",
   "execution_count": 181,
   "id": "desperate-rebound",
   "metadata": {},
   "outputs": [
    {
     "data": {
      "text/plain": [
       " Nom: Ilyass \n",
       " Prénom: Math \n",
       " Date de naissance: 01/07/1982"
      ]
     },
     "execution_count": 181,
     "metadata": {},
     "output_type": "execute_result"
    }
   ],
   "source": [
    "Personne(\"Ilyass\",\"Math\",DateNaissance(1,7,1982))"
   ]
  },
  {
   "cell_type": "code",
   "execution_count": 182,
   "id": "eastern-teddy",
   "metadata": {},
   "outputs": [
    {
     "data": {
      "text/plain": [
       " Nom: Ilyass \n",
       " Prénom: Math \n",
       " Date de naissance: 01/07/1982 \n",
       " Salaire: 7865.55"
      ]
     },
     "execution_count": 182,
     "metadata": {},
     "output_type": "execute_result"
    }
   ],
   "source": [
    "Employe(Personne(\"Ilyass\",\"Math\",DateNaissance(1,7,1982)),7865.55)"
   ]
  },
  {
   "cell_type": "code",
   "execution_count": 183,
   "id": "pacific-attachment",
   "metadata": {},
   "outputs": [
    {
     "data": {
      "text/plain": [
       " Nom: Ilyass \n",
       " Prénom: Math \n",
       " Date de naissance: 01/07/1982 \n",
       " Salaire: 7865.55 \n",
       " Service: Ressource humaine"
      ]
     },
     "execution_count": 183,
     "metadata": {},
     "output_type": "execute_result"
    }
   ],
   "source": [
    "Chef(Employe(Personne(\"Ilyass\",\"Math\",DateNaissance(1,7,1982)),7865.55),\"Ressource humaine\")"
   ]
  },
  {
   "cell_type": "code",
   "execution_count": null,
   "id": "ranging-chance",
   "metadata": {},
   "outputs": [],
   "source": []
  }
 ],
 "metadata": {
  "kernelspec": {
   "display_name": "Python 3",
   "language": "python",
   "name": "python3"
  },
  "language_info": {
   "codemirror_mode": {
    "name": "ipython",
    "version": 3
   },
   "file_extension": ".py",
   "mimetype": "text/x-python",
   "name": "python",
   "nbconvert_exporter": "python",
   "pygments_lexer": "ipython3",
   "version": "3.8.2"
  }
 },
 "nbformat": 4,
 "nbformat_minor": 5
}
