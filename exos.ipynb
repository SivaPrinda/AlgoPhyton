{
 "cells": [
  {
   "cell_type": "markdown",
   "id": "mineral-serve",
   "metadata": {},
   "source": [
    "# 1.1"
   ]
  },
  {
   "cell_type": "code",
   "execution_count": null,
   "id": "present-literature",
   "metadata": {},
   "outputs": [],
   "source": [
    "a = 1\n",
    "b = 2\n",
    "c = a\n",
    "a = b\n",
    "b = c"
   ]
  },
  {
   "cell_type": "code",
   "execution_count": null,
   "id": "efficient-quantum",
   "metadata": {},
   "outputs": [],
   "source": [
    "a"
   ]
  },
  {
   "cell_type": "code",
   "execution_count": null,
   "id": "northern-advertiser",
   "metadata": {},
   "outputs": [],
   "source": [
    "b"
   ]
  },
  {
   "cell_type": "markdown",
   "id": "continued-moment",
   "metadata": {},
   "source": [
    "# 1.2"
   ]
  },
  {
   "cell_type": "code",
   "execution_count": 2,
   "id": "alike-passenger",
   "metadata": {
    "scrolled": true
   },
   "outputs": [
    {
     "name": "stdout",
     "output_type": "stream",
     "text": [
      "Entrez un nombre :2\n",
      "4\n"
     ]
    }
   ],
   "source": [
    "a = int(input(\"Entrez un nombre :\"))\n",
    "print(a*a)"
   ]
  },
  {
   "cell_type": "markdown",
   "id": "dominican-conducting",
   "metadata": {},
   "source": [
    "# 1.3"
   ]
  },
  {
   "cell_type": "code",
   "execution_count": 3,
   "id": "typical-wrestling",
   "metadata": {},
   "outputs": [
    {
     "name": "stdout",
     "output_type": "stream",
     "text": [
      "Entrez un nombre :2\n",
      "Le nombre est positif\n"
     ]
    }
   ],
   "source": [
    "a = int(input('Entrez un nombre :'))\n",
    "if a < 0: \n",
    "    print(\"Le nombre est négatif\")\n",
    "else:\n",
    "    print(\"Le nombre est positif\")"
   ]
  },
  {
   "cell_type": "markdown",
   "id": "engaged-tongue",
   "metadata": {},
   "source": [
    "# 1.4"
   ]
  },
  {
   "cell_type": "code",
   "execution_count": 4,
   "id": "sharp-tennis",
   "metadata": {},
   "outputs": [
    {
     "name": "stdout",
     "output_type": "stream",
     "text": [
      "Entrez un premier nombre : 2\n",
      "Entrez un deuxième nombre : 3\n",
      "Le nombre est positif\n"
     ]
    }
   ],
   "source": [
    "a = int(input(\"Entrez un premier nombre : \"))\n",
    "b = int(input(\"Entrez un deuxième nombre : \"))\n",
    "if a*b < 0:\n",
    "    print(\"Le nombre est négatif\")\n",
    "else:\n",
    "    print(\"Le nombre est positif\")"
   ]
  },
  {
   "cell_type": "markdown",
   "id": "written-assembly",
   "metadata": {},
   "source": [
    "# 1.5"
   ]
  },
  {
   "cell_type": "code",
   "execution_count": 9,
   "id": "cognitive-toddler",
   "metadata": {},
   "outputs": [
    {
     "name": "stdout",
     "output_type": "stream",
     "text": [
      "Entrez un nombre : 3\n",
      "4\n",
      "5\n",
      "6\n",
      "7\n",
      "8\n",
      "9\n",
      "10\n",
      "11\n",
      "12\n",
      "13\n"
     ]
    }
   ],
   "source": [
    "a = int(input(\"Entrez un nombre : \"))\n",
    "i = 0\n",
    "while i < 10:\n",
    "    i = i + 1\n",
    "    a = a + 1 \n",
    "    print(a)"
   ]
  },
  {
   "cell_type": "markdown",
   "id": "unexpected-evans",
   "metadata": {},
   "source": [
    "# 1.6"
   ]
  },
  {
   "cell_type": "code",
   "execution_count": 31,
   "id": "royal-ethnic",
   "metadata": {},
   "outputs": [
    {
     "name": "stdout",
     "output_type": "stream",
     "text": [
      "Entrez un nombre : 5\n",
      "15\n"
     ]
    }
   ],
   "source": [
    "a = int(input(\"Entrez un nombre : \"))\n",
    "b = 1\n",
    "for i in range(1,a): \n",
    "    a = a + i\n",
    "print(a)"
   ]
  },
  {
   "cell_type": "markdown",
   "id": "divided-madagascar",
   "metadata": {},
   "source": [
    "# 2.1"
   ]
  },
  {
   "cell_type": "code",
   "execution_count": 48,
   "id": "varying-commitment",
   "metadata": {},
   "outputs": [
    {
     "name": "stdout",
     "output_type": "stream",
     "text": [
      "15\n"
     ]
    }
   ],
   "source": [
    "tab = [1,2,3,4,5]\n",
    "a = tab[0]\n",
    "for i in range(1,len(tab)):\n",
    "    a = a + tab[i]\n",
    "print(a)"
   ]
  },
  {
   "cell_type": "markdown",
   "id": "sporting-operator",
   "metadata": {},
   "source": [
    "# 2.2"
   ]
  },
  {
   "cell_type": "code",
   "execution_count": 57,
   "id": "electrical-topic",
   "metadata": {},
   "outputs": [
    {
     "name": "stdout",
     "output_type": "stream",
     "text": [
      "[3, 5, 7]\n"
     ]
    }
   ],
   "source": [
    "tab1 = [1,2,3]\n",
    "tab2 = [2,3,4]\n",
    "tab3 = []\n",
    "for i in range(0,len(tab1)):\n",
    "    tab3.insert(i, int(tab1[i]) + int(tab2[i]))\n",
    "print(tab3)"
   ]
  },
  {
   "cell_type": "markdown",
   "id": "crude-neighborhood",
   "metadata": {},
   "source": [
    "# 2.3"
   ]
  },
  {
   "cell_type": "code",
   "execution_count": 66,
   "id": "literary-myanmar",
   "metadata": {},
   "outputs": [
    {
     "name": "stdout",
     "output_type": "stream",
     "text": [
      "12\n"
     ]
    }
   ],
   "source": [
    "a = 0\n",
    "somme = 0\n",
    "while a < len(tab2):\n",
    "    for i in range(0,len(tab1)):\n",
    "        somme = tab1[i] * tab2[a]\n",
    "    a = a + 1\n",
    "print(somme)"
   ]
  },
  {
   "cell_type": "markdown",
   "id": "ancient-trademark",
   "metadata": {},
   "source": [
    "# 2.4"
   ]
  },
  {
   "cell_type": "code",
   "execution_count": null,
   "id": "clean-jordan",
   "metadata": {},
   "outputs": [],
   "source": []
  }
 ],
 "metadata": {
  "kernelspec": {
   "display_name": "Python 3",
   "language": "python",
   "name": "python3"
  },
  "language_info": {
   "codemirror_mode": {
    "name": "ipython",
    "version": 3
   },
   "file_extension": ".py",
   "mimetype": "text/x-python",
   "name": "python",
   "nbconvert_exporter": "python",
   "pygments_lexer": "ipython3",
   "version": "3.8.2"
  }
 },
 "nbformat": 4,
 "nbformat_minor": 5
}
