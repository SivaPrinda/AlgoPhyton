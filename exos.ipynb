{
 "cells": [
  {
   "cell_type": "markdown",
   "id": "mineral-serve",
   "metadata": {},
   "source": [
    "# 1.1"
   ]
  },
  {
   "cell_type": "code",
   "execution_count": null,
   "id": "present-literature",
   "metadata": {},
   "outputs": [],
   "source": [
    "a = 1\n",
    "b = 2\n",
    "c = a\n",
    "a = b\n",
    "b = c"
   ]
  },
  {
   "cell_type": "code",
   "execution_count": null,
   "id": "efficient-quantum",
   "metadata": {},
   "outputs": [],
   "source": [
    "a"
   ]
  },
  {
   "cell_type": "code",
   "execution_count": null,
   "id": "northern-advertiser",
   "metadata": {},
   "outputs": [],
   "source": [
    "b"
   ]
  },
  {
   "cell_type": "markdown",
   "id": "continued-moment",
   "metadata": {},
   "source": [
    "# 1.2"
   ]
  },
  {
   "cell_type": "code",
   "execution_count": 2,
   "id": "alike-passenger",
   "metadata": {
    "scrolled": true
   },
   "outputs": [
    {
     "name": "stdout",
     "output_type": "stream",
     "text": [
      "Entrez un nombre :2\n",
      "4\n"
     ]
    }
   ],
   "source": [
    "a = int(input(\"Entrez un nombre :\"))\n",
    "print(a*a)"
   ]
  },
  {
   "cell_type": "markdown",
   "id": "dominican-conducting",
   "metadata": {},
   "source": [
    "# 1.3"
   ]
  },
  {
   "cell_type": "code",
   "execution_count": 3,
   "id": "typical-wrestling",
   "metadata": {},
   "outputs": [
    {
     "name": "stdout",
     "output_type": "stream",
     "text": [
      "Entrez un nombre :2\n",
      "Le nombre est positif\n"
     ]
    }
   ],
   "source": [
    "a = int(input('Entrez un nombre :'))\n",
    "if a < 0: \n",
    "    print(\"Le nombre est négatif\")\n",
    "else:\n",
    "    print(\"Le nombre est positif\")"
   ]
  },
  {
   "cell_type": "markdown",
   "id": "engaged-tongue",
   "metadata": {},
   "source": [
    "# 1.4"
   ]
  },
  {
   "cell_type": "code",
   "execution_count": 4,
   "id": "sharp-tennis",
   "metadata": {},
   "outputs": [
    {
     "name": "stdout",
     "output_type": "stream",
     "text": [
      "Entrez un premier nombre : 2\n",
      "Entrez un deuxième nombre : 3\n",
      "Le nombre est positif\n"
     ]
    }
   ],
   "source": [
    "a = int(input(\"Entrez un premier nombre : \"))\n",
    "b = int(input(\"Entrez un deuxième nombre : \"))\n",
    "if a*b < 0:\n",
    "    print(\"Le nombre est négatif\")\n",
    "else:\n",
    "    print(\"Le nombre est positif\")"
   ]
  },
  {
   "cell_type": "markdown",
   "id": "written-assembly",
   "metadata": {},
   "source": [
    "# 1.5"
   ]
  },
  {
   "cell_type": "code",
   "execution_count": 9,
   "id": "cognitive-toddler",
   "metadata": {},
   "outputs": [
    {
     "name": "stdout",
     "output_type": "stream",
     "text": [
      "Entrez un nombre : 3\n",
      "4\n",
      "5\n",
      "6\n",
      "7\n",
      "8\n",
      "9\n",
      "10\n",
      "11\n",
      "12\n",
      "13\n"
     ]
    }
   ],
   "source": [
    "a = int(input(\"Entrez un nombre : \"))\n",
    "i = 0\n",
    "while i < 10:\n",
    "    i = i + 1\n",
    "    a = a + 1 \n",
    "    print(a)"
   ]
  },
  {
   "cell_type": "markdown",
   "id": "unexpected-evans",
   "metadata": {},
   "source": [
    "# 1.6"
   ]
  },
  {
   "cell_type": "code",
   "execution_count": 31,
   "id": "royal-ethnic",
   "metadata": {},
   "outputs": [
    {
     "name": "stdout",
     "output_type": "stream",
     "text": [
      "Entrez un nombre : 5\n",
      "15\n"
     ]
    }
   ],
   "source": [
    "a = int(input(\"Entrez un nombre : \"))\n",
    "b = 1\n",
    "for i in range(1,a): \n",
    "    a = a + i\n",
    "print(a)"
   ]
  },
  {
   "cell_type": "markdown",
   "id": "divided-madagascar",
   "metadata": {},
   "source": [
    "# 2.1"
   ]
  },
  {
   "cell_type": "code",
   "execution_count": 48,
   "id": "varying-commitment",
   "metadata": {},
   "outputs": [
    {
     "name": "stdout",
     "output_type": "stream",
     "text": [
      "15\n"
     ]
    }
   ],
   "source": [
    "tab = [1,2,3,4,5]\n",
    "a = tab[0]\n",
    "for i in range(1,len(tab)):\n",
    "    a = a + tab[i]\n",
    "print(a)"
   ]
  },
  {
   "cell_type": "markdown",
   "id": "sporting-operator",
   "metadata": {},
   "source": [
    "# 2.2"
   ]
  },
  {
   "cell_type": "code",
   "execution_count": 57,
   "id": "electrical-topic",
   "metadata": {},
   "outputs": [
    {
     "name": "stdout",
     "output_type": "stream",
     "text": [
      "[3, 5, 7]\n"
     ]
    }
   ],
   "source": [
    "tab1 = [1,2,3]\n",
    "tab2 = [2,3,4]\n",
    "tab3 = []\n",
    "for i in range(0,len(tab1)):\n",
    "    tab3.insert(i, int(tab1[i]) + int(tab2[i]))\n",
    "print(tab3)"
   ]
  },
  {
   "cell_type": "markdown",
   "id": "crude-neighborhood",
   "metadata": {},
   "source": [
    "# 2.3"
   ]
  },
  {
   "cell_type": "code",
   "execution_count": 66,
   "id": "literary-myanmar",
   "metadata": {
    "scrolled": true
   },
   "outputs": [
    {
     "name": "stdout",
     "output_type": "stream",
     "text": [
      "12\n"
     ]
    }
   ],
   "source": [
    "a = 0\n",
    "somme = 0\n",
    "while a < len(tab2):\n",
    "    for i in range(0,len(tab1)):\n",
    "        somme = tab1[i] * tab2[a]\n",
    "    a = a + 1\n",
    "print(somme)"
   ]
  },
  {
   "cell_type": "markdown",
   "id": "ancient-trademark",
   "metadata": {},
   "source": [
    "# 2.4 correction"
   ]
  },
  {
   "cell_type": "code",
   "execution_count": null,
   "id": "clean-jordan",
   "metadata": {},
   "outputs": [],
   "source": [
    "items = [-1,2,5,3,8,4,1]\n",
    "for j in range(len(items)):\n",
    "if j == 0:\n",
    "res = items[j]\n",
    "else:\n",
    "if (items[j] > res):\n",
    "res = items[j]\n",
    "item = j\n",
    "(res, item)"
   ]
  },
  {
   "cell_type": "markdown",
   "id": "still-fourth",
   "metadata": {},
   "source": [
    "# Target somme"
   ]
  },
  {
   "cell_type": "code",
   "execution_count": 14,
   "id": "casual-discovery",
   "metadata": {},
   "outputs": [
    {
     "name": "stdout",
     "output_type": "stream",
     "text": [
      "nop\n"
     ]
    }
   ],
   "source": [
    "tab = [3, 5, -4, 8, 11, 1, -1, 6]\n",
    "targetSum = 10\n",
    "j = 1\n",
    "tab1 = []\n",
    "for i in range(1,len(tab)):\n",
    "    if tab[i] != tab[j]:\n",
    "        if (tab[i] + tab[j] == targetSum):\n",
    "            tab1.insert(0,tab[i])\n",
    "            tab1.insert(1,tab[j])\n",
    "            print(tab1)\n",
    "        else:\n",
    "            j += 1"
   ]
  },
  {
   "cell_type": "markdown",
   "id": "alien-robert",
   "metadata": {},
   "source": [
    "# correction"
   ]
  },
  {
   "cell_type": "code",
   "execution_count": 20,
   "id": "typical-boundary",
   "metadata": {},
   "outputs": [
    {
     "name": "stdout",
     "output_type": "stream",
     "text": [
      "[11, -1]\n",
      "[-1, 11]\n"
     ]
    }
   ],
   "source": [
    "tab = [3, 5, -4, 8, 11, 1, -1, 6]\n",
    "def targetSum(tab,targetSum):\n",
    "    for i in tab:\n",
    "        for j in tab:\n",
    "            if i!=j and i+j==targetSum:\n",
    "                tab1 = [i,j]\n",
    "                print(tab1)\n",
    "targetSum(tab,10)"
   ]
  },
  {
   "cell_type": "markdown",
   "id": "economic-soviet",
   "metadata": {},
   "source": [
    "# target sum avec dict"
   ]
  },
  {
   "cell_type": "code",
   "execution_count": 10,
   "id": "moved-magazine",
   "metadata": {
    "scrolled": true
   },
   "outputs": [
    {
     "ename": "KeyError",
     "evalue": "7",
     "output_type": "error",
     "traceback": [
      "\u001b[0;31m---------------------------------------------------------------------------\u001b[0m",
      "\u001b[0;31mKeyError\u001b[0m                                  Traceback (most recent call last)",
      "\u001b[0;32m<ipython-input-10-1fb2e15d4024>\u001b[0m in \u001b[0;36m<module>\u001b[0;34m\u001b[0m\n\u001b[1;32m      7\u001b[0m         \u001b[0;32mif\u001b[0m\u001b[0;34m(\u001b[0m\u001b[0mi\u001b[0m\u001b[0;34m!=\u001b[0m\u001b[0mdiff\u001b[0m \u001b[0;32mand\u001b[0m \u001b[0mdic\u001b[0m\u001b[0;34m[\u001b[0m\u001b[0mdiff\u001b[0m\u001b[0;34m]\u001b[0m\u001b[0;34m==\u001b[0m\u001b[0mi\u001b[0m\u001b[0;34m)\u001b[0m\u001b[0;34m:\u001b[0m\u001b[0;34m\u001b[0m\u001b[0;34m\u001b[0m\u001b[0m\n\u001b[1;32m      8\u001b[0m             \u001b[0mprint\u001b[0m\u001b[0;34m(\u001b[0m\u001b[0mdic\u001b[0m\u001b[0;34m[\u001b[0m\u001b[0mi\u001b[0m\u001b[0;34m]\u001b[0m\u001b[0;34m)\u001b[0m\u001b[0;34m\u001b[0m\u001b[0;34m\u001b[0m\u001b[0m\n\u001b[0;32m----> 9\u001b[0;31m \u001b[0mtargetSum\u001b[0m\u001b[0;34m(\u001b[0m\u001b[0mtab\u001b[0m\u001b[0;34m,\u001b[0m\u001b[0;36m10\u001b[0m\u001b[0;34m)\u001b[0m\u001b[0;34m\u001b[0m\u001b[0;34m\u001b[0m\u001b[0m\n\u001b[0m",
      "\u001b[0;32m<ipython-input-10-1fb2e15d4024>\u001b[0m in \u001b[0;36mtargetSum\u001b[0;34m(tab, targetSum)\u001b[0m\n\u001b[1;32m      5\u001b[0m         \u001b[0mdiff\u001b[0m \u001b[0;34m=\u001b[0m \u001b[0mtargetSum\u001b[0m \u001b[0;34m-\u001b[0m \u001b[0mi\u001b[0m\u001b[0;34m\u001b[0m\u001b[0;34m\u001b[0m\u001b[0m\n\u001b[1;32m      6\u001b[0m         \u001b[0mdic\u001b[0m\u001b[0;34m[\u001b[0m\u001b[0mi\u001b[0m\u001b[0;34m]\u001b[0m \u001b[0;34m=\u001b[0m \u001b[0mdiff\u001b[0m\u001b[0;34m\u001b[0m\u001b[0;34m\u001b[0m\u001b[0m\n\u001b[0;32m----> 7\u001b[0;31m         \u001b[0;32mif\u001b[0m\u001b[0;34m(\u001b[0m\u001b[0mi\u001b[0m\u001b[0;34m!=\u001b[0m\u001b[0mdiff\u001b[0m \u001b[0;32mand\u001b[0m \u001b[0mdic\u001b[0m\u001b[0;34m[\u001b[0m\u001b[0mdiff\u001b[0m\u001b[0;34m]\u001b[0m\u001b[0;34m==\u001b[0m\u001b[0mi\u001b[0m\u001b[0;34m)\u001b[0m\u001b[0;34m:\u001b[0m\u001b[0;34m\u001b[0m\u001b[0;34m\u001b[0m\u001b[0m\n\u001b[0m\u001b[1;32m      8\u001b[0m             \u001b[0mprint\u001b[0m\u001b[0;34m(\u001b[0m\u001b[0mdic\u001b[0m\u001b[0;34m[\u001b[0m\u001b[0mi\u001b[0m\u001b[0;34m]\u001b[0m\u001b[0;34m)\u001b[0m\u001b[0;34m\u001b[0m\u001b[0;34m\u001b[0m\u001b[0m\n\u001b[1;32m      9\u001b[0m \u001b[0mtargetSum\u001b[0m\u001b[0;34m(\u001b[0m\u001b[0mtab\u001b[0m\u001b[0;34m,\u001b[0m\u001b[0;36m10\u001b[0m\u001b[0;34m)\u001b[0m\u001b[0;34m\u001b[0m\u001b[0;34m\u001b[0m\u001b[0m\n",
      "\u001b[0;31mKeyError\u001b[0m: 7"
     ]
    }
   ],
   "source": [
    "tab = [3, 5, -4, 8, 11, 1, -1, 6]\n",
    "dic = {}\n",
    "def targetSum(tab,targetSum):\n",
    "    for i in tab: \n",
    "        diff = targetSum - i\n",
    "        dic[i] = diff\n",
    "        if(i!=diff and dic[diff]==i):\n",
    "            print(dic[i])\n",
    "targetSum(tab,10)"
   ]
  },
  {
   "cell_type": "markdown",
   "id": "legal-genesis",
   "metadata": {},
   "source": [
    "# correction"
   ]
  },
  {
   "cell_type": "code",
   "execution_count": 13,
   "id": "trying-excitement",
   "metadata": {},
   "outputs": [
    {
     "name": "stdout",
     "output_type": "stream",
     "text": [
      "[11, -1]\n"
     ]
    }
   ],
   "source": [
    "tab = [3, 5, -4, 8, 11, 1, -1, 6]\n",
    "dic = {}\n",
    "def targetSum(tab,targetSum):\n",
    "    for i in tab: \n",
    "        diff = targetSum - i\n",
    "        dic[i] = diff\n",
    "        if(i!=diff and diff in dic):\n",
    "            print([dic[i],i])\n",
    "targetSum(tab,10)"
   ]
  },
  {
   "cell_type": "markdown",
   "id": "entire-brazil",
   "metadata": {},
   "source": [
    "## solution 1"
   ]
  },
  {
   "cell_type": "code",
   "execution_count": 14,
   "id": "incorporate-calgary",
   "metadata": {},
   "outputs": [
    {
     "name": "stdout",
     "output_type": "stream",
     "text": [
      "{3: True}\n",
      "{3: True, 5: True}\n",
      "{3: True, 5: True, -4: True}\n",
      "{3: True, 5: True, -4: True, 8: True}\n",
      "{3: True, 5: True, -4: True, 8: True, 11: True}\n",
      "{3: True, 5: True, -4: True, 8: True, 11: True, 1: True}\n"
     ]
    },
    {
     "data": {
      "text/plain": [
       "[11, -1]"
      ]
     },
     "execution_count": 14,
     "metadata": {},
     "output_type": "execute_result"
    }
   ],
   "source": [
    "tab = [3, 5, -4, 8, 11, 1, -1, 6]\n",
    "def target_somme(array, targetSum):\n",
    "    #sol2 -> O(n) time | O(1) space \n",
    "    nums={}\n",
    "    for num in array:\n",
    "        tmp = targetSum - num \n",
    "        if tmp in nums:\n",
    "            return [tmp,num]\n",
    "        else: \n",
    "            nums[num] = True\n",
    "        print(nums)\n",
    "    return []\n",
    "target_somme(tab, 10)"
   ]
  },
  {
   "cell_type": "markdown",
   "id": "periodic-maine",
   "metadata": {},
   "source": [
    "## Solution 2"
   ]
  },
  {
   "cell_type": "code",
   "execution_count": null,
   "id": "welsh-layout",
   "metadata": {},
   "outputs": [],
   "source": [
    "%%time\n",
    "def targetSomme2(liste, target):\n",
    "    dico = {}\n",
    "    for item in liste:\n",
    "        dico[target - item] = item\n",
    "        if (item in dico and dico[item] != item):\n",
    "            return [item, dico[item]]\n",
    "    return []\n",
    "targetSomme2([3, 5, -4, 8, 11, 1, -1, 6], 10)"
   ]
  },
  {
   "cell_type": "markdown",
   "id": "paperback-effort",
   "metadata": {},
   "source": [
    "# La distance de Levenshtein "
   ]
  },
  {
   "cell_type": "code",
   "execution_count": 34,
   "id": "executive-upper",
   "metadata": {},
   "outputs": [
    {
     "ename": "IndexError",
     "evalue": "list assignment index out of range",
     "output_type": "error",
     "traceback": [
      "\u001b[0;31m---------------------------------------------------------------------------\u001b[0m",
      "\u001b[0;31mIndexError\u001b[0m                                Traceback (most recent call last)",
      "\u001b[0;32m<ipython-input-34-16115f083c0e>\u001b[0m in \u001b[0;36m<module>\u001b[0;34m\u001b[0m\n\u001b[1;32m     10\u001b[0m     \u001b[0mprint\u001b[0m\u001b[0;34m(\u001b[0m\u001b[0mlevendist\u001b[0m\u001b[0;34m)\u001b[0m\u001b[0;34m\u001b[0m\u001b[0;34m\u001b[0m\u001b[0m\n\u001b[1;32m     11\u001b[0m \u001b[0;34m\u001b[0m\u001b[0m\n\u001b[0;32m---> 12\u001b[0;31m \u001b[0mlevenshtein\u001b[0m\u001b[0;34m(\u001b[0m\u001b[0;34m\"chien\"\u001b[0m\u001b[0;34m,\u001b[0m\u001b[0;34m\"niche\"\u001b[0m\u001b[0;34m)\u001b[0m\u001b[0;34m\u001b[0m\u001b[0;34m\u001b[0m\u001b[0m\n\u001b[0m",
      "\u001b[0;32m<ipython-input-34-16115f083c0e>\u001b[0m in \u001b[0;36mlevenshtein\u001b[0;34m(str1, str2)\u001b[0m\n\u001b[1;32m      3\u001b[0m     \u001b[0mstr1len\u001b[0m \u001b[0;34m=\u001b[0m \u001b[0mlen\u001b[0m\u001b[0;34m(\u001b[0m\u001b[0mstr1\u001b[0m\u001b[0;34m)\u001b[0m\u001b[0;34m\u001b[0m\u001b[0;34m\u001b[0m\u001b[0m\n\u001b[1;32m      4\u001b[0m     \u001b[0mstr2len\u001b[0m \u001b[0;34m=\u001b[0m \u001b[0mlen\u001b[0m\u001b[0;34m(\u001b[0m\u001b[0mstr2\u001b[0m\u001b[0;34m)\u001b[0m\u001b[0;34m\u001b[0m\u001b[0;34m\u001b[0m\u001b[0m\n\u001b[0;32m----> 5\u001b[0;31m     \u001b[0mlevendist\u001b[0m\u001b[0;34m[\u001b[0m\u001b[0;36m0\u001b[0m\u001b[0;34m]\u001b[0m\u001b[0;34m[\u001b[0m\u001b[0;36m0\u001b[0m\u001b[0;34m]\u001b[0m \u001b[0;34m=\u001b[0m \u001b[0;36m0\u001b[0m\u001b[0;34m\u001b[0m\u001b[0;34m\u001b[0m\u001b[0m\n\u001b[0m\u001b[1;32m      6\u001b[0m     \u001b[0;32mfor\u001b[0m \u001b[0mi\u001b[0m \u001b[0;32min\u001b[0m \u001b[0mrange\u001b[0m\u001b[0;34m(\u001b[0m\u001b[0;36m1\u001b[0m\u001b[0;34m,\u001b[0m\u001b[0mstr1len\u001b[0m\u001b[0;34m+\u001b[0m\u001b[0;36m1\u001b[0m\u001b[0;34m)\u001b[0m\u001b[0;34m:\u001b[0m\u001b[0;34m\u001b[0m\u001b[0;34m\u001b[0m\u001b[0m\n\u001b[1;32m      7\u001b[0m         \u001b[0mlevendist\u001b[0m\u001b[0;34m[\u001b[0m\u001b[0mi\u001b[0m\u001b[0;34m]\u001b[0m\u001b[0;34m[\u001b[0m\u001b[0;36m0\u001b[0m\u001b[0;34m]\u001b[0m \u001b[0;34m=\u001b[0m \u001b[0mi\u001b[0m\u001b[0;34m\u001b[0m\u001b[0;34m\u001b[0m\u001b[0m\n",
      "\u001b[0;31mIndexError\u001b[0m: list assignment index out of range"
     ]
    }
   ],
   "source": [
    "levendist = [[]]\n",
    "def levenshtein(str1,str2):\n",
    "    str1len = len(str1)\n",
    "    str2len = len(str2)\n",
    "    levendist[0][0] = 0\n",
    "    for i in range(1,str1len):\n",
    "        levendist[i][0] = i\n",
    "    for j in range(1,str2len+1):\n",
    "        levendist[0][j] = j\n",
    "    print(levendist)\n",
    "            \n",
    "levenshtein(\"chien\",\"niche\")"
   ]
  },
  {
   "cell_type": "markdown",
   "id": "welcome-ghost",
   "metadata": {},
   "source": [
    "#### etape initialisation tableau"
   ]
  },
  {
   "cell_type": "code",
   "execution_count": 36,
   "id": "acoustic-score",
   "metadata": {},
   "outputs": [
    {
     "data": {
      "text/plain": [
       "[[], [], [], [], [], []]"
      ]
     },
     "execution_count": 36,
     "metadata": {},
     "output_type": "execute_result"
    }
   ],
   "source": [
    "## mat = [[0 for x in range(len(str1))] for y in range(len(str2))]\n",
    "n = 5\n",
    "l = [ [] for i in range(n+1)];\n",
    "l"
   ]
  },
  {
   "cell_type": "code",
   "execution_count": 39,
   "id": "monthly-encounter",
   "metadata": {},
   "outputs": [
    {
     "data": {
      "text/plain": [
       "[[0, 1, 2, 3, 4, 5],\n",
       " [0, 1, 2, 3, 4, 5],\n",
       " [0, 1, 2, 3, 4, 5],\n",
       " [0, 1, 2, 3, 4, 5],\n",
       " [0, 1, 2, 3, 4, 5],\n",
       " [0, 1, 2, 3, 4, 5]]"
      ]
     },
     "execution_count": 39,
     "metadata": {},
     "output_type": "execute_result"
    }
   ],
   "source": [
    "d = [[ x for x in range(n+1)] for y in range(n+1)]; d"
   ]
  },
  {
   "cell_type": "code",
   "execution_count": 41,
   "id": "dynamic-arena",
   "metadata": {},
   "outputs": [
    {
     "data": {
      "text/plain": [
       "[[0, 1, 2, 3, 4, 5],\n",
       " [1, 1, 2, 3, 4, 5],\n",
       " [2, 1, 2, 3, 4, 5],\n",
       " [3, 1, 2, 3, 4, 5],\n",
       " [4, 1, 2, 3, 4, 5],\n",
       " [5, 1, 2, 3, 4, 5]]"
      ]
     },
     "execution_count": 41,
     "metadata": {},
     "output_type": "execute_result"
    }
   ],
   "source": [
    "for i in range(1,n+1):\n",
    "    d[i][0] = i\n",
    "#d[][]=?\n",
    "#"
   ]
  },
  {
   "cell_type": "markdown",
   "id": "unnecessary-reynolds",
   "metadata": {},
   "source": [
    "#### retour exo"
   ]
  },
  {
   "cell_type": "code",
   "execution_count": 67,
   "id": "neutral-husband",
   "metadata": {},
   "outputs": [
    {
     "ename": "IndexError",
     "evalue": "list index out of range",
     "output_type": "error",
     "traceback": [
      "\u001b[0;31m---------------------------------------------------------------------------\u001b[0m",
      "\u001b[0;31mIndexError\u001b[0m                                Traceback (most recent call last)",
      "\u001b[0;32m<ipython-input-67-63dabf1e1377>\u001b[0m in \u001b[0;36m<module>\u001b[0;34m\u001b[0m\n\u001b[1;32m     14\u001b[0m                 \u001b[0mlevendist\u001b[0m\u001b[0;34m[\u001b[0m\u001b[0mx\u001b[0m\u001b[0;34m]\u001b[0m\u001b[0;34m[\u001b[0m\u001b[0my\u001b[0m\u001b[0;34m]\u001b[0m \u001b[0;34m=\u001b[0m \u001b[0mlevendist\u001b[0m\u001b[0;34m[\u001b[0m\u001b[0mx\u001b[0m\u001b[0;34m-\u001b[0m\u001b[0;36m1\u001b[0m\u001b[0;34m]\u001b[0m\u001b[0;34m[\u001b[0m\u001b[0my\u001b[0m\u001b[0;34m-\u001b[0m\u001b[0;36m1\u001b[0m\u001b[0;34m]\u001b[0m\u001b[0;34m\u001b[0m\u001b[0;34m\u001b[0m\u001b[0m\n\u001b[1;32m     15\u001b[0m     \u001b[0mprint\u001b[0m\u001b[0;34m(\u001b[0m\u001b[0mlevendist\u001b[0m\u001b[0;34m[\u001b[0m\u001b[0mstr2len\u001b[0m\u001b[0;34m]\u001b[0m\u001b[0;34m[\u001b[0m\u001b[0mstr1len\u001b[0m\u001b[0;34m]\u001b[0m\u001b[0;34m)\u001b[0m\u001b[0;34m\u001b[0m\u001b[0;34m\u001b[0m\u001b[0m\n\u001b[0;32m---> 16\u001b[0;31m \u001b[0mlevenshtein\u001b[0m\u001b[0;34m(\u001b[0m\u001b[0;34m\"abc\"\u001b[0m\u001b[0;34m,\u001b[0m\u001b[0;34m\"yabd\"\u001b[0m\u001b[0;34m)\u001b[0m\u001b[0;34m\u001b[0m\u001b[0;34m\u001b[0m\u001b[0m\n\u001b[0m",
      "\u001b[0;32m<ipython-input-67-63dabf1e1377>\u001b[0m in \u001b[0;36mlevenshtein\u001b[0;34m(str1, str2)\u001b[0m\n\u001b[1;32m      4\u001b[0m     \u001b[0mlevendist\u001b[0m \u001b[0;34m=\u001b[0m \u001b[0;34m[\u001b[0m\u001b[0;34m[\u001b[0m \u001b[0;36m0\u001b[0m \u001b[0;32mfor\u001b[0m \u001b[0mx\u001b[0m \u001b[0;32min\u001b[0m \u001b[0mrange\u001b[0m\u001b[0;34m(\u001b[0m\u001b[0mstr2len\u001b[0m\u001b[0;34m+\u001b[0m\u001b[0;36m1\u001b[0m\u001b[0;34m)\u001b[0m\u001b[0;34m]\u001b[0m \u001b[0;32mfor\u001b[0m \u001b[0my\u001b[0m \u001b[0;32min\u001b[0m \u001b[0mrange\u001b[0m\u001b[0;34m(\u001b[0m\u001b[0mstr1len\u001b[0m\u001b[0;34m+\u001b[0m\u001b[0;36m1\u001b[0m\u001b[0;34m)\u001b[0m\u001b[0;34m]\u001b[0m\u001b[0;34m;\u001b[0m\u001b[0;34m\u001b[0m\u001b[0;34m\u001b[0m\u001b[0m\n\u001b[1;32m      5\u001b[0m     \u001b[0;32mfor\u001b[0m \u001b[0mx\u001b[0m \u001b[0;32min\u001b[0m \u001b[0mrange\u001b[0m\u001b[0;34m(\u001b[0m\u001b[0;36m1\u001b[0m\u001b[0;34m,\u001b[0m\u001b[0mstr2len\u001b[0m\u001b[0;34m+\u001b[0m\u001b[0;36m1\u001b[0m\u001b[0;34m)\u001b[0m\u001b[0;34m:\u001b[0m\u001b[0;34m\u001b[0m\u001b[0;34m\u001b[0m\u001b[0m\n\u001b[0;32m----> 6\u001b[0;31m         \u001b[0mlevendist\u001b[0m\u001b[0;34m[\u001b[0m\u001b[0mx\u001b[0m\u001b[0;34m]\u001b[0m\u001b[0;34m[\u001b[0m\u001b[0;36m0\u001b[0m\u001b[0;34m]\u001b[0m \u001b[0;34m=\u001b[0m \u001b[0mx\u001b[0m\u001b[0;34m\u001b[0m\u001b[0;34m\u001b[0m\u001b[0m\n\u001b[0m\u001b[1;32m      7\u001b[0m     \u001b[0;32mfor\u001b[0m \u001b[0my\u001b[0m \u001b[0;32min\u001b[0m \u001b[0mrange\u001b[0m\u001b[0;34m(\u001b[0m\u001b[0;36m1\u001b[0m\u001b[0;34m,\u001b[0m\u001b[0mstr1len\u001b[0m\u001b[0;34m+\u001b[0m\u001b[0;36m1\u001b[0m\u001b[0;34m)\u001b[0m\u001b[0;34m:\u001b[0m\u001b[0;34m\u001b[0m\u001b[0;34m\u001b[0m\u001b[0m\n\u001b[1;32m      8\u001b[0m         \u001b[0mlevendist\u001b[0m\u001b[0;34m[\u001b[0m\u001b[0;36m0\u001b[0m\u001b[0;34m]\u001b[0m\u001b[0;34m[\u001b[0m\u001b[0my\u001b[0m\u001b[0;34m]\u001b[0m \u001b[0;34m=\u001b[0m \u001b[0my\u001b[0m\u001b[0;34m\u001b[0m\u001b[0;34m\u001b[0m\u001b[0m\n",
      "\u001b[0;31mIndexError\u001b[0m: list index out of range"
     ]
    }
   ],
   "source": [
    "def levenshtein(str1,str2):\n",
    "    str1len = len(str1)\n",
    "    str2len = len(str2)\n",
    "    levendist = [[ 0 for x in range(str2len+1)] for y in range(str1len+1)];\n",
    "    for x in range(1,str2len+1):\n",
    "        levendist[x][0] = x\n",
    "    for y in range(1,str1len+1):\n",
    "        levendist[0][y] = y\n",
    "    for x in range(1,str2len+1):\n",
    "        for y in range(1,str1len+1):\n",
    "            if str2[x-1] != str1[y-1]:\n",
    "                levendist[x][y] = min(levendist[x-1][y],levendist[x-1][y-1],levendist[x][y-1])+1\n",
    "            else:\n",
    "                levendist[x][y] = levendist[x-1][y-1]\n",
    "    print(levendist[str2len][str1len])\n",
    "levenshtein(\"abc\",\"yabd\")"
   ]
  },
  {
   "cell_type": "code",
   "execution_count": 56,
   "id": "modular-calvin",
   "metadata": {},
   "outputs": [
    {
     "data": {
      "text/plain": [
       "[[0, 1, 2, 3, 4, 5],\n",
       " [1, 1, 2, 3, 4, 4],\n",
       " [2, 2, 2, 2, 3, 4],\n",
       " [3, 2, 3, 3, 3, 4],\n",
       " [4, 3, 2, 3, 4, 4]]"
      ]
     },
     "execution_count": 56,
     "metadata": {},
     "output_type": "execute_result"
    }
   ],
   "source": [
    "for x in range(1,str2len+1):\n",
    "    for y in range(1,str1len+1):\n",
    "        if str2[x-1] != str1[y-1]:\n",
    "            levendist[x][y] = min(levendist[x-1][y],levendist[x-1][y-1],levendist[x][y-1])+1\n",
    "        else:\n",
    "            levendist[x][y] = levendist[x-1][y-1]\n",
    "levendist"
   ]
  },
  {
   "cell_type": "markdown",
   "id": "assured-railway",
   "metadata": {},
   "source": [
    "#### solution 2 (correction)"
   ]
  },
  {
   "cell_type": "code",
   "execution_count": null,
   "id": "divine-average",
   "metadata": {},
   "outputs": [],
   "source": []
  }
 ],
 "metadata": {
  "kernelspec": {
   "display_name": "Python 3",
   "language": "python",
   "name": "python3"
  },
  "language_info": {
   "codemirror_mode": {
    "name": "ipython",
    "version": 3
   },
   "file_extension": ".py",
   "mimetype": "text/x-python",
   "name": "python",
   "nbconvert_exporter": "python",
   "pygments_lexer": "ipython3",
   "version": "3.8.2"
  }
 },
 "nbformat": 4,
 "nbformat_minor": 5
}
