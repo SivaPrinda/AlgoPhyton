{
 "cells": [
  {
   "cell_type": "markdown",
   "id": "polish-skirt",
   "metadata": {},
   "source": [
    "# Projet Python data visualisation  \n",
    "## Modalité d’évaluation \n",
    "#### 4 compétences évaluées \n",
    "#### Notation sur 20 \n",
    "#### Consignes \n",
    "#### Votre analyse sous forme de Jupyter Notebook devra contenir:\n",
    "    - Au moins 1 diagramme avec données continues, type nuage de point ou histogramme\n",
    "    - Au moins 2 diagramme avec des données discrètes\n",
    "    - Au moins 3 graphiques avec des données catégoriques\n",
    "    - 1 boîte à moustaches avec filtrage des données aberrantes sur le dataset (si il y en a)\n",
    "    - 1 heat map avec matrice de corrélation (si pertinent)\n",
    "    - Des commentaires clairs et pertinents pour chaque graphiques "
   ]
  },
  {
   "cell_type": "markdown",
   "id": "extra-consent",
   "metadata": {},
   "source": [
    "Problématique : Quelle type de livre a une grande chance d'être suivie par les lecteurs?"
   ]
  },
  {
   "cell_type": "code",
   "execution_count": 1,
   "id": "optional-leave",
   "metadata": {},
   "outputs": [],
   "source": [
    "import pandas as pd\n",
    "import numpy as np\n",
    "import matplotlib.pyplot as plt \n",
    "import seaborn as sns"
   ]
  },
  {
   "cell_type": "code",
   "execution_count": 22,
   "id": "governmental-lafayette",
   "metadata": {},
   "outputs": [
    {
     "data": {
      "text/html": [
       "<div>\n",
       "<style scoped>\n",
       "    .dataframe tbody tr th:only-of-type {\n",
       "        vertical-align: middle;\n",
       "    }\n",
       "\n",
       "    .dataframe tbody tr th {\n",
       "        vertical-align: top;\n",
       "    }\n",
       "\n",
       "    .dataframe thead th {\n",
       "        text-align: right;\n",
       "    }\n",
       "</style>\n",
       "<table border=\"1\" class=\"dataframe\">\n",
       "  <thead>\n",
       "    <tr style=\"text-align: right;\">\n",
       "      <th></th>\n",
       "      <th>name</th>\n",
       "      <th>type</th>\n",
       "      <th>status</th>\n",
       "      <th>date</th>\n",
       "      <th>genres</th>\n",
       "      <th>score</th>\n",
       "      <th>members</th>\n",
       "      <th>rank</th>\n",
       "      <th>popularity</th>\n",
       "      <th>image</th>\n",
       "      <th>quantity</th>\n",
       "    </tr>\n",
       "  </thead>\n",
       "  <tbody>\n",
       "    <tr>\n",
       "      <th>0</th>\n",
       "      <td>A Bewildering Flower</td>\n",
       "      <td>One-shot</td>\n",
       "      <td>Finished</td>\n",
       "      <td>Mar 1998 to ?</td>\n",
       "      <td>Yuri</td>\n",
       "      <td>5.86</td>\n",
       "      <td>379.0</td>\n",
       "      <td>NaN</td>\n",
       "      <td>17526</td>\n",
       "      <td>https://cdn.myanimelist.net/images/manga/2/290...</td>\n",
       "      <td>1.0</td>\n",
       "    </tr>\n",
       "    <tr>\n",
       "      <th>1</th>\n",
       "      <td>A Bias Girl</td>\n",
       "      <td>Manhwa</td>\n",
       "      <td>Finished</td>\n",
       "      <td>Jun  1, 2011 to Feb  15, 2012</td>\n",
       "      <td>Comedy, School, Slice of Life</td>\n",
       "      <td>6.74</td>\n",
       "      <td>NaN</td>\n",
       "      <td>10173.0</td>\n",
       "      <td>6426</td>\n",
       "      <td>https://cdn.myanimelist.net/images/manga/2/150...</td>\n",
       "      <td>15.0</td>\n",
       "    </tr>\n",
       "    <tr>\n",
       "      <th>2</th>\n",
       "      <td>A Bittersweet Life</td>\n",
       "      <td>Manhwa</td>\n",
       "      <td>Finished</td>\n",
       "      <td>Feb  26, 2013</td>\n",
       "      <td>Comedy, Romance, Slice of Life</td>\n",
       "      <td>NaN</td>\n",
       "      <td>355.0</td>\n",
       "      <td>35228.0</td>\n",
       "      <td>18096</td>\n",
       "      <td>https://cdn.myanimelist.net/images/manga/3/148...</td>\n",
       "      <td>31.0</td>\n",
       "    </tr>\n",
       "    <tr>\n",
       "      <th>3</th>\n",
       "      <td>A Boy Who Fishes Dreams</td>\n",
       "      <td>One-shot</td>\n",
       "      <td>Finished</td>\n",
       "      <td>Jun 2012</td>\n",
       "      <td>Drama, Sci-Fi, Psychological</td>\n",
       "      <td>6.62</td>\n",
       "      <td>665.0</td>\n",
       "      <td>11208.0</td>\n",
       "      <td>12945</td>\n",
       "      <td>https://cdn.myanimelist.net/images/manga/5/111...</td>\n",
       "      <td>1.0</td>\n",
       "    </tr>\n",
       "    <tr>\n",
       "      <th>4</th>\n",
       "      <td>A Cat and a Bird</td>\n",
       "      <td>Manhwa</td>\n",
       "      <td>Finished</td>\n",
       "      <td>Not available</td>\n",
       "      <td>Drama, Shoujo, Slice of Life, Psychological</td>\n",
       "      <td>7.01</td>\n",
       "      <td>973.0</td>\n",
       "      <td>7440.0</td>\n",
       "      <td>10208</td>\n",
       "      <td>https://cdn.myanimelist.net/images/manga/4/288...</td>\n",
       "      <td>10.0</td>\n",
       "    </tr>\n",
       "    <tr>\n",
       "      <th>...</th>\n",
       "      <td>...</td>\n",
       "      <td>...</td>\n",
       "      <td>...</td>\n",
       "      <td>...</td>\n",
       "      <td>...</td>\n",
       "      <td>...</td>\n",
       "      <td>...</td>\n",
       "      <td>...</td>\n",
       "      <td>...</td>\n",
       "      <td>...</td>\n",
       "      <td>...</td>\n",
       "    </tr>\n",
       "    <tr>\n",
       "      <th>51891</th>\n",
       "      <td>9S</td>\n",
       "      <td>Light Novel</td>\n",
       "      <td>Publishing</td>\n",
       "      <td>Sep  10, 2003 to ?</td>\n",
       "      <td>Action, Mystery, Fantasy, Super Power</td>\n",
       "      <td>NaN</td>\n",
       "      <td>220.0</td>\n",
       "      <td>20112.0</td>\n",
       "      <td>22363</td>\n",
       "      <td>https://cdn.myanimelist.net/images/manga/1/128...</td>\n",
       "      <td>NaN</td>\n",
       "    </tr>\n",
       "    <tr>\n",
       "      <th>51892</th>\n",
       "      <td>9S: memories</td>\n",
       "      <td>Light Novel</td>\n",
       "      <td>Finished</td>\n",
       "      <td>Dec  10, 2007</td>\n",
       "      <td>Action, Sci-Fi, Super Power, Military</td>\n",
       "      <td>NaN</td>\n",
       "      <td>62.0</td>\n",
       "      <td>33812.0</td>\n",
       "      <td>35811</td>\n",
       "      <td>https://cdn.myanimelist.net/images/manga/1/128...</td>\n",
       "      <td>3.0</td>\n",
       "    </tr>\n",
       "    <tr>\n",
       "      <th>51893</th>\n",
       "      <td>9S? SS</td>\n",
       "      <td>Light Novel</td>\n",
       "      <td>Finished</td>\n",
       "      <td>Jan  10, 2006</td>\n",
       "      <td>Action, Comedy, Sci-Fi, Super Power, Military</td>\n",
       "      <td>NaN</td>\n",
       "      <td>62.0</td>\n",
       "      <td>33811.0</td>\n",
       "      <td>35810</td>\n",
       "      <td>https://cdn.myanimelist.net/images/manga/2/128...</td>\n",
       "      <td>5.0</td>\n",
       "    </tr>\n",
       "    <tr>\n",
       "      <th>51894</th>\n",
       "      <td>9th Sleep</td>\n",
       "      <td>Manga</td>\n",
       "      <td>Finished</td>\n",
       "      <td>2004 to ?</td>\n",
       "      <td>Fantasy, Shounen Ai</td>\n",
       "      <td>6.70</td>\n",
       "      <td>968.0</td>\n",
       "      <td>10532.0</td>\n",
       "      <td>10284</td>\n",
       "      <td>https://cdn.myanimelist.net/images/manga/2/595...</td>\n",
       "      <td>3.0</td>\n",
       "    </tr>\n",
       "    <tr>\n",
       "      <th>51895</th>\n",
       "      <td>9to5 Love×Mission</td>\n",
       "      <td>Manga</td>\n",
       "      <td>Finished</td>\n",
       "      <td>Mar  26, 2007 to Oct  11, 2009</td>\n",
       "      <td>Josei</td>\n",
       "      <td>NaN</td>\n",
       "      <td>200.0</td>\n",
       "      <td>15431.0</td>\n",
       "      <td>23288</td>\n",
       "      <td>https://cdn.myanimelist.net/images/manga/1/240...</td>\n",
       "      <td>13.0</td>\n",
       "    </tr>\n",
       "  </tbody>\n",
       "</table>\n",
       "<p>51896 rows × 11 columns</p>\n",
       "</div>"
      ],
      "text/plain": [
       "                          name         type      status  \\\n",
       "0         A Bewildering Flower     One-shot    Finished   \n",
       "1                  A Bias Girl       Manhwa    Finished   \n",
       "2           A Bittersweet Life       Manhwa    Finished   \n",
       "3      A Boy Who Fishes Dreams     One-shot    Finished   \n",
       "4             A Cat and a Bird       Manhwa    Finished   \n",
       "...                        ...          ...         ...   \n",
       "51891                       9S  Light Novel  Publishing   \n",
       "51892             9S: memories  Light Novel    Finished   \n",
       "51893                   9S? SS  Light Novel    Finished   \n",
       "51894                9th Sleep        Manga    Finished   \n",
       "51895        9to5 Love×Mission        Manga    Finished   \n",
       "\n",
       "                                 date  \\\n",
       "0                       Mar 1998 to ?   \n",
       "1       Jun  1, 2011 to Feb  15, 2012   \n",
       "2                       Feb  26, 2013   \n",
       "3                            Jun 2012   \n",
       "4                       Not available   \n",
       "...                               ...   \n",
       "51891              Sep  10, 2003 to ?   \n",
       "51892                   Dec  10, 2007   \n",
       "51893                   Jan  10, 2006   \n",
       "51894                       2004 to ?   \n",
       "51895  Mar  26, 2007 to Oct  11, 2009   \n",
       "\n",
       "                                              genres  score  members     rank  \\\n",
       "0                                               Yuri   5.86    379.0      NaN   \n",
       "1                      Comedy, School, Slice of Life   6.74      NaN  10173.0   \n",
       "2                     Comedy, Romance, Slice of Life    NaN    355.0  35228.0   \n",
       "3                       Drama, Sci-Fi, Psychological   6.62    665.0  11208.0   \n",
       "4        Drama, Shoujo, Slice of Life, Psychological   7.01    973.0   7440.0   \n",
       "...                                              ...    ...      ...      ...   \n",
       "51891          Action, Mystery, Fantasy, Super Power    NaN    220.0  20112.0   \n",
       "51892          Action, Sci-Fi, Super Power, Military    NaN     62.0  33812.0   \n",
       "51893  Action, Comedy, Sci-Fi, Super Power, Military    NaN     62.0  33811.0   \n",
       "51894                            Fantasy, Shounen Ai   6.70    968.0  10532.0   \n",
       "51895                                          Josei    NaN    200.0  15431.0   \n",
       "\n",
       "       popularity                                              image  quantity  \n",
       "0           17526  https://cdn.myanimelist.net/images/manga/2/290...       1.0  \n",
       "1            6426  https://cdn.myanimelist.net/images/manga/2/150...      15.0  \n",
       "2           18096  https://cdn.myanimelist.net/images/manga/3/148...      31.0  \n",
       "3           12945  https://cdn.myanimelist.net/images/manga/5/111...       1.0  \n",
       "4           10208  https://cdn.myanimelist.net/images/manga/4/288...      10.0  \n",
       "...           ...                                                ...       ...  \n",
       "51891       22363  https://cdn.myanimelist.net/images/manga/1/128...       NaN  \n",
       "51892       35811  https://cdn.myanimelist.net/images/manga/1/128...       3.0  \n",
       "51893       35810  https://cdn.myanimelist.net/images/manga/2/128...       5.0  \n",
       "51894       10284  https://cdn.myanimelist.net/images/manga/2/595...       3.0  \n",
       "51895       23288  https://cdn.myanimelist.net/images/manga/1/240...      13.0  \n",
       "\n",
       "[51896 rows x 11 columns]"
      ]
     },
     "execution_count": 22,
     "metadata": {},
     "output_type": "execute_result"
    }
   ],
   "source": [
    "df = pd.read_csv('./data/manga.csv',sep =\";\")\n",
    "df"
   ]
  },
  {
   "cell_type": "code",
   "execution_count": 23,
   "id": "iraqi-trance",
   "metadata": {},
   "outputs": [
    {
     "name": "stdout",
     "output_type": "stream",
     "text": [
      "<class 'pandas.core.frame.DataFrame'>\n",
      "RangeIndex: 51896 entries, 0 to 51895\n",
      "Data columns (total 11 columns):\n",
      " #   Column      Non-Null Count  Dtype  \n",
      "---  ------      --------------  -----  \n",
      " 0   name        51896 non-null  object \n",
      " 1   type        51896 non-null  object \n",
      " 2   status      51896 non-null  object \n",
      " 3   date        51896 non-null  object \n",
      " 4   genres      51752 non-null  object \n",
      " 5   score       18388 non-null  float64\n",
      " 6   members     41978 non-null  float64\n",
      " 7   rank        35848 non-null  float64\n",
      " 8   popularity  51896 non-null  int64  \n",
      " 9   image       42545 non-null  object \n",
      " 10  quantity    36464 non-null  float64\n",
      "dtypes: float64(4), int64(1), object(6)\n",
      "memory usage: 4.4+ MB\n"
     ]
    }
   ],
   "source": [
    "df.info()"
   ]
  },
  {
   "cell_type": "markdown",
   "id": "individual-surface",
   "metadata": {},
   "source": [
    "On remarque sur les informations qu'il y a 51896 entrer non null au totale.On voit que pour le score à 18388 entrer non null sur 51896."
   ]
  },
  {
   "cell_type": "code",
   "execution_count": 24,
   "id": "natural-stretch",
   "metadata": {},
   "outputs": [
    {
     "data": {
      "text/html": [
       "<div>\n",
       "<style scoped>\n",
       "    .dataframe tbody tr th:only-of-type {\n",
       "        vertical-align: middle;\n",
       "    }\n",
       "\n",
       "    .dataframe tbody tr th {\n",
       "        vertical-align: top;\n",
       "    }\n",
       "\n",
       "    .dataframe thead th {\n",
       "        text-align: right;\n",
       "    }\n",
       "</style>\n",
       "<table border=\"1\" class=\"dataframe\">\n",
       "  <thead>\n",
       "    <tr style=\"text-align: right;\">\n",
       "      <th></th>\n",
       "      <th>score</th>\n",
       "      <th>members</th>\n",
       "      <th>rank</th>\n",
       "      <th>popularity</th>\n",
       "      <th>quantity</th>\n",
       "    </tr>\n",
       "  </thead>\n",
       "  <tbody>\n",
       "    <tr>\n",
       "      <th>count</th>\n",
       "      <td>18388.000000</td>\n",
       "      <td>41978.000000</td>\n",
       "      <td>35848.000000</td>\n",
       "      <td>51896.000000</td>\n",
       "      <td>36464.000000</td>\n",
       "    </tr>\n",
       "    <tr>\n",
       "      <th>mean</th>\n",
       "      <td>7.050109</td>\n",
       "      <td>196.628234</td>\n",
       "      <td>18125.914361</td>\n",
       "      <td>26175.179783</td>\n",
       "      <td>19.423788</td>\n",
       "    </tr>\n",
       "    <tr>\n",
       "      <th>std</th>\n",
       "      <td>0.495987</td>\n",
       "      <td>231.250339</td>\n",
       "      <td>10475.405438</td>\n",
       "      <td>15107.080221</td>\n",
       "      <td>54.386842</td>\n",
       "    </tr>\n",
       "    <tr>\n",
       "      <th>min</th>\n",
       "      <td>2.540000</td>\n",
       "      <td>0.000000</td>\n",
       "      <td>1.000000</td>\n",
       "      <td>1.000000</td>\n",
       "      <td>1.000000</td>\n",
       "    </tr>\n",
       "    <tr>\n",
       "      <th>25%</th>\n",
       "      <td>6.740000</td>\n",
       "      <td>39.000000</td>\n",
       "      <td>9035.750000</td>\n",
       "      <td>13102.000000</td>\n",
       "      <td>5.000000</td>\n",
       "    </tr>\n",
       "    <tr>\n",
       "      <th>50%</th>\n",
       "      <td>7.030000</td>\n",
       "      <td>91.000000</td>\n",
       "      <td>18092.500000</td>\n",
       "      <td>26173.500000</td>\n",
       "      <td>8.000000</td>\n",
       "    </tr>\n",
       "    <tr>\n",
       "      <th>75%</th>\n",
       "      <td>7.330000</td>\n",
       "      <td>267.000000</td>\n",
       "      <td>27222.250000</td>\n",
       "      <td>39261.000000</td>\n",
       "      <td>17.000000</td>\n",
       "    </tr>\n",
       "    <tr>\n",
       "      <th>max</th>\n",
       "      <td>9.340000</td>\n",
       "      <td>999.000000</td>\n",
       "      <td>36210.000000</td>\n",
       "      <td>52432.000000</td>\n",
       "      <td>6477.000000</td>\n",
       "    </tr>\n",
       "  </tbody>\n",
       "</table>\n",
       "</div>"
      ],
      "text/plain": [
       "              score       members          rank    popularity      quantity\n",
       "count  18388.000000  41978.000000  35848.000000  51896.000000  36464.000000\n",
       "mean       7.050109    196.628234  18125.914361  26175.179783     19.423788\n",
       "std        0.495987    231.250339  10475.405438  15107.080221     54.386842\n",
       "min        2.540000      0.000000      1.000000      1.000000      1.000000\n",
       "25%        6.740000     39.000000   9035.750000  13102.000000      5.000000\n",
       "50%        7.030000     91.000000  18092.500000  26173.500000      8.000000\n",
       "75%        7.330000    267.000000  27222.250000  39261.000000     17.000000\n",
       "max        9.340000    999.000000  36210.000000  52432.000000   6477.000000"
      ]
     },
     "execution_count": 24,
     "metadata": {},
     "output_type": "execute_result"
    }
   ],
   "source": [
    "df.describe()"
   ]
  },
  {
   "cell_type": "markdown",
   "id": "nominated-hearts",
   "metadata": {},
   "source": []
  },
  {
   "cell_type": "markdown",
   "id": "knowing-childhood",
   "metadata": {},
   "source": [
    "#### diagramme "
   ]
  },
  {
   "cell_type": "code",
   "execution_count": 43,
   "id": "rising-single",
   "metadata": {},
   "outputs": [
    {
     "data": {
      "text/plain": [
       "<AxesSubplot:xlabel='type', ylabel='members'>"
      ]
     },
     "execution_count": 43,
     "metadata": {},
     "output_type": "execute_result"
    },
    {
     "data": {
      "image/png": "[encoded data removed]",
      "text/plain": [
       "<Figure size 432x288 with 1 Axes>"
      ]
     },
     "metadata": {
      "needs_background": "light"
     },
     "output_type": "display_data"
    }
   ],
   "source": [
    "sns.scatterplot(data=df, x=\"type\",y=\"members\")"
   ]
  },
  {
   "cell_type": "markdown",
   "id": "requested-malaysia",
   "metadata": {},
   "source": [
    "On remarke ici que les Light Novel et les M"
   ]
  },
  {
   "cell_type": "code",
   "execution_count": 41,
   "id": "subjective-leisure",
   "metadata": {},
   "outputs": [
    {
     "data": {
      "text/plain": [
       "<seaborn.axisgrid.FacetGrid at 0x133b71700>"
      ]
     },
     "execution_count": 41,
     "metadata": {},
     "output_type": "execute_result"
    },
    {
     "data": {
      "image/png": "[encoded data removed]",
      "text/plain": [
       "<Figure size 360x360 with 1 Axes>"
      ]
     },
     "metadata": {
      "needs_background": "light"
     },
     "output_type": "display_data"
    }
   ],
   "source": [
    "sns.catplot(data=df,x=\"type\", y=\"members\", kind=\"bar\")"
   ]
  },
  {
   "cell_type": "code",
   "execution_count": null,
   "id": "illegal-wayne",
   "metadata": {},
   "outputs": [],
   "source": []
  }
 ],
 "metadata": {
  "kernelspec": {
   "display_name": "Python 3",
   "language": "python",
   "name": "python3"
  },
  "language_info": {
   "codemirror_mode": {
    "name": "ipython",
    "version": 3
   },
   "file_extension": ".py",
   "mimetype": "text/x-python",
   "name": "python",
   "nbconvert_exporter": "python",
   "pygments_lexer": "ipython3",
   "version": "3.8.2"
  }
 },
 "nbformat": 4,
 "nbformat_minor": 5
}
