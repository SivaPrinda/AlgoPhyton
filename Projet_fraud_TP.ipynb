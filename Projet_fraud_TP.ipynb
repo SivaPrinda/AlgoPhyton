{
 "cells": [
  {
   "cell_type": "markdown",
   "id": "included-tribune",
   "metadata": {},
   "source": [
    "# Projet Fraude \n",
    "\n"
   ]
  },
  {
   "cell_type": "code",
   "execution_count": 1,
   "id": "indirect-tribune",
   "metadata": {},
   "outputs": [],
   "source": [
    "import numpy as np\n",
    "import pandas as pd\n",
    "import matplotlib.pyplot as plt\n",
    "from sklearn import tree\n",
    "from sklearn.tree import DecisionTreeRegressor"
   ]
  },
  {
   "cell_type": "markdown",
   "id": "aboriginal-cathedral",
   "metadata": {},
   "source": [
    "### Importer les dataset"
   ]
  },
  {
   "cell_type": "code",
   "execution_count": 2,
   "id": "casual-idaho",
   "metadata": {},
   "outputs": [],
   "source": [
    "df1 = pd.read_csv('./data/Fraud_Data.csv')\n",
    "df2 = pd.read_csv('./data/IpAddress_to_Country.csv')"
   ]
  },
  {
   "cell_type": "code",
   "execution_count": 3,
   "id": "speaking-mortality",
   "metadata": {},
   "outputs": [
    {
     "data": {
      "text/html": [
       "<div>\n",
       "<style scoped>\n",
       "    .dataframe tbody tr th:only-of-type {\n",
       "        vertical-align: middle;\n",
       "    }\n",
       "\n",
       "    .dataframe tbody tr th {\n",
       "        vertical-align: top;\n",
       "    }\n",
       "\n",
       "    .dataframe thead th {\n",
       "        text-align: right;\n",
       "    }\n",
       "</style>\n",
       "<table border=\"1\" class=\"dataframe\">\n",
       "  <thead>\n",
       "    <tr style=\"text-align: right;\">\n",
       "      <th></th>\n",
       "      <th>user_id</th>\n",
       "      <th>signup_time</th>\n",
       "      <th>purchase_time</th>\n",
       "      <th>purchase_value</th>\n",
       "      <th>device_id</th>\n",
       "      <th>source</th>\n",
       "      <th>browser</th>\n",
       "      <th>sex</th>\n",
       "      <th>age</th>\n",
       "      <th>ip_address</th>\n",
       "      <th>class</th>\n",
       "    </tr>\n",
       "  </thead>\n",
       "  <tbody>\n",
       "    <tr>\n",
       "      <th>0</th>\n",
       "      <td>22058</td>\n",
       "      <td>2015-02-24 22:55:49</td>\n",
       "      <td>2015-04-18 02:47:11</td>\n",
       "      <td>34</td>\n",
       "      <td>QVPSPJUOCKZAR</td>\n",
       "      <td>SEO</td>\n",
       "      <td>Chrome</td>\n",
       "      <td>M</td>\n",
       "      <td>39</td>\n",
       "      <td>7.327584e+08</td>\n",
       "      <td>0</td>\n",
       "    </tr>\n",
       "    <tr>\n",
       "      <th>1</th>\n",
       "      <td>333320</td>\n",
       "      <td>2015-06-07 20:39:50</td>\n",
       "      <td>2015-06-08 01:38:54</td>\n",
       "      <td>16</td>\n",
       "      <td>EOGFQPIZPYXFZ</td>\n",
       "      <td>Ads</td>\n",
       "      <td>Chrome</td>\n",
       "      <td>F</td>\n",
       "      <td>53</td>\n",
       "      <td>3.503114e+08</td>\n",
       "      <td>0</td>\n",
       "    </tr>\n",
       "    <tr>\n",
       "      <th>2</th>\n",
       "      <td>1359</td>\n",
       "      <td>2015-01-01 18:52:44</td>\n",
       "      <td>2015-01-01 18:52:45</td>\n",
       "      <td>15</td>\n",
       "      <td>YSSKYOSJHPPLJ</td>\n",
       "      <td>SEO</td>\n",
       "      <td>Opera</td>\n",
       "      <td>M</td>\n",
       "      <td>53</td>\n",
       "      <td>2.621474e+09</td>\n",
       "      <td>1</td>\n",
       "    </tr>\n",
       "    <tr>\n",
       "      <th>3</th>\n",
       "      <td>150084</td>\n",
       "      <td>2015-04-28 21:13:25</td>\n",
       "      <td>2015-05-04 13:54:50</td>\n",
       "      <td>44</td>\n",
       "      <td>ATGTXKYKUDUQN</td>\n",
       "      <td>SEO</td>\n",
       "      <td>Safari</td>\n",
       "      <td>M</td>\n",
       "      <td>41</td>\n",
       "      <td>3.840542e+09</td>\n",
       "      <td>0</td>\n",
       "    </tr>\n",
       "    <tr>\n",
       "      <th>4</th>\n",
       "      <td>221365</td>\n",
       "      <td>2015-07-21 07:09:52</td>\n",
       "      <td>2015-09-09 18:40:53</td>\n",
       "      <td>39</td>\n",
       "      <td>NAUITBZFJKHWW</td>\n",
       "      <td>Ads</td>\n",
       "      <td>Safari</td>\n",
       "      <td>M</td>\n",
       "      <td>45</td>\n",
       "      <td>4.155831e+08</td>\n",
       "      <td>0</td>\n",
       "    </tr>\n",
       "    <tr>\n",
       "      <th>...</th>\n",
       "      <td>...</td>\n",
       "      <td>...</td>\n",
       "      <td>...</td>\n",
       "      <td>...</td>\n",
       "      <td>...</td>\n",
       "      <td>...</td>\n",
       "      <td>...</td>\n",
       "      <td>...</td>\n",
       "      <td>...</td>\n",
       "      <td>...</td>\n",
       "      <td>...</td>\n",
       "    </tr>\n",
       "    <tr>\n",
       "      <th>151107</th>\n",
       "      <td>345170</td>\n",
       "      <td>2015-01-27 03:03:34</td>\n",
       "      <td>2015-03-29 00:30:47</td>\n",
       "      <td>43</td>\n",
       "      <td>XPSKTWGPWINLR</td>\n",
       "      <td>SEO</td>\n",
       "      <td>Chrome</td>\n",
       "      <td>M</td>\n",
       "      <td>28</td>\n",
       "      <td>3.451155e+09</td>\n",
       "      <td>1</td>\n",
       "    </tr>\n",
       "    <tr>\n",
       "      <th>151108</th>\n",
       "      <td>274471</td>\n",
       "      <td>2015-05-15 17:43:29</td>\n",
       "      <td>2015-05-26 12:24:39</td>\n",
       "      <td>35</td>\n",
       "      <td>LYSFABUCPCGBA</td>\n",
       "      <td>SEO</td>\n",
       "      <td>Safari</td>\n",
       "      <td>M</td>\n",
       "      <td>32</td>\n",
       "      <td>2.439047e+09</td>\n",
       "      <td>0</td>\n",
       "    </tr>\n",
       "    <tr>\n",
       "      <th>151109</th>\n",
       "      <td>368416</td>\n",
       "      <td>2015-03-03 23:07:31</td>\n",
       "      <td>2015-05-20 07:07:47</td>\n",
       "      <td>40</td>\n",
       "      <td>MEQHCSJUBRBFE</td>\n",
       "      <td>SEO</td>\n",
       "      <td>IE</td>\n",
       "      <td>F</td>\n",
       "      <td>26</td>\n",
       "      <td>2.748471e+09</td>\n",
       "      <td>0</td>\n",
       "    </tr>\n",
       "    <tr>\n",
       "      <th>151110</th>\n",
       "      <td>207709</td>\n",
       "      <td>2015-07-09 20:06:07</td>\n",
       "      <td>2015-09-07 09:34:46</td>\n",
       "      <td>46</td>\n",
       "      <td>CMCXFGRHYSTVJ</td>\n",
       "      <td>SEO</td>\n",
       "      <td>Chrome</td>\n",
       "      <td>M</td>\n",
       "      <td>37</td>\n",
       "      <td>3.601175e+09</td>\n",
       "      <td>0</td>\n",
       "    </tr>\n",
       "    <tr>\n",
       "      <th>151111</th>\n",
       "      <td>138208</td>\n",
       "      <td>2015-06-10 07:02:20</td>\n",
       "      <td>2015-07-21 02:03:53</td>\n",
       "      <td>20</td>\n",
       "      <td>ZINIADFCLHYPG</td>\n",
       "      <td>Direct</td>\n",
       "      <td>IE</td>\n",
       "      <td>M</td>\n",
       "      <td>38</td>\n",
       "      <td>4.103825e+09</td>\n",
       "      <td>0</td>\n",
       "    </tr>\n",
       "  </tbody>\n",
       "</table>\n",
       "<p>151112 rows × 11 columns</p>\n",
       "</div>"
      ],
      "text/plain": [
       "        user_id          signup_time        purchase_time  purchase_value  \\\n",
       "0         22058  2015-02-24 22:55:49  2015-04-18 02:47:11              34   \n",
       "1        333320  2015-06-07 20:39:50  2015-06-08 01:38:54              16   \n",
       "2          1359  2015-01-01 18:52:44  2015-01-01 18:52:45              15   \n",
       "3        150084  2015-04-28 21:13:25  2015-05-04 13:54:50              44   \n",
       "4        221365  2015-07-21 07:09:52  2015-09-09 18:40:53              39   \n",
       "...         ...                  ...                  ...             ...   \n",
       "151107   345170  2015-01-27 03:03:34  2015-03-29 00:30:47              43   \n",
       "151108   274471  2015-05-15 17:43:29  2015-05-26 12:24:39              35   \n",
       "151109   368416  2015-03-03 23:07:31  2015-05-20 07:07:47              40   \n",
       "151110   207709  2015-07-09 20:06:07  2015-09-07 09:34:46              46   \n",
       "151111   138208  2015-06-10 07:02:20  2015-07-21 02:03:53              20   \n",
       "\n",
       "            device_id  source browser sex  age    ip_address  class  \n",
       "0       QVPSPJUOCKZAR     SEO  Chrome   M   39  7.327584e+08      0  \n",
       "1       EOGFQPIZPYXFZ     Ads  Chrome   F   53  3.503114e+08      0  \n",
       "2       YSSKYOSJHPPLJ     SEO   Opera   M   53  2.621474e+09      1  \n",
       "3       ATGTXKYKUDUQN     SEO  Safari   M   41  3.840542e+09      0  \n",
       "4       NAUITBZFJKHWW     Ads  Safari   M   45  4.155831e+08      0  \n",
       "...               ...     ...     ...  ..  ...           ...    ...  \n",
       "151107  XPSKTWGPWINLR     SEO  Chrome   M   28  3.451155e+09      1  \n",
       "151108  LYSFABUCPCGBA     SEO  Safari   M   32  2.439047e+09      0  \n",
       "151109  MEQHCSJUBRBFE     SEO      IE   F   26  2.748471e+09      0  \n",
       "151110  CMCXFGRHYSTVJ     SEO  Chrome   M   37  3.601175e+09      0  \n",
       "151111  ZINIADFCLHYPG  Direct      IE   M   38  4.103825e+09      0  \n",
       "\n",
       "[151112 rows x 11 columns]"
      ]
     },
     "execution_count": 3,
     "metadata": {},
     "output_type": "execute_result"
    }
   ],
   "source": [
    "df1"
   ]
  },
  {
   "cell_type": "code",
   "execution_count": 4,
   "id": "about-webcam",
   "metadata": {},
   "outputs": [
    {
     "data": {
      "text/html": [
       "<div>\n",
       "<style scoped>\n",
       "    .dataframe tbody tr th:only-of-type {\n",
       "        vertical-align: middle;\n",
       "    }\n",
       "\n",
       "    .dataframe tbody tr th {\n",
       "        vertical-align: top;\n",
       "    }\n",
       "\n",
       "    .dataframe thead th {\n",
       "        text-align: right;\n",
       "    }\n",
       "</style>\n",
       "<table border=\"1\" class=\"dataframe\">\n",
       "  <thead>\n",
       "    <tr style=\"text-align: right;\">\n",
       "      <th></th>\n",
       "      <th>lower_bound_ip_address</th>\n",
       "      <th>upper_bound_ip_address</th>\n",
       "      <th>country</th>\n",
       "    </tr>\n",
       "  </thead>\n",
       "  <tbody>\n",
       "    <tr>\n",
       "      <th>0</th>\n",
       "      <td>1.677722e+07</td>\n",
       "      <td>16777471</td>\n",
       "      <td>Australia</td>\n",
       "    </tr>\n",
       "    <tr>\n",
       "      <th>1</th>\n",
       "      <td>1.677747e+07</td>\n",
       "      <td>16777727</td>\n",
       "      <td>China</td>\n",
       "    </tr>\n",
       "    <tr>\n",
       "      <th>2</th>\n",
       "      <td>1.677773e+07</td>\n",
       "      <td>16778239</td>\n",
       "      <td>China</td>\n",
       "    </tr>\n",
       "    <tr>\n",
       "      <th>3</th>\n",
       "      <td>1.677824e+07</td>\n",
       "      <td>16779263</td>\n",
       "      <td>Australia</td>\n",
       "    </tr>\n",
       "    <tr>\n",
       "      <th>4</th>\n",
       "      <td>1.677926e+07</td>\n",
       "      <td>16781311</td>\n",
       "      <td>China</td>\n",
       "    </tr>\n",
       "    <tr>\n",
       "      <th>...</th>\n",
       "      <td>...</td>\n",
       "      <td>...</td>\n",
       "      <td>...</td>\n",
       "    </tr>\n",
       "    <tr>\n",
       "      <th>138841</th>\n",
       "      <td>3.758092e+09</td>\n",
       "      <td>3758093311</td>\n",
       "      <td>Hong Kong</td>\n",
       "    </tr>\n",
       "    <tr>\n",
       "      <th>138842</th>\n",
       "      <td>3.758093e+09</td>\n",
       "      <td>3758094335</td>\n",
       "      <td>India</td>\n",
       "    </tr>\n",
       "    <tr>\n",
       "      <th>138843</th>\n",
       "      <td>3.758095e+09</td>\n",
       "      <td>3758095871</td>\n",
       "      <td>China</td>\n",
       "    </tr>\n",
       "    <tr>\n",
       "      <th>138844</th>\n",
       "      <td>3.758096e+09</td>\n",
       "      <td>3758096127</td>\n",
       "      <td>Singapore</td>\n",
       "    </tr>\n",
       "    <tr>\n",
       "      <th>138845</th>\n",
       "      <td>3.758096e+09</td>\n",
       "      <td>3758096383</td>\n",
       "      <td>Australia</td>\n",
       "    </tr>\n",
       "  </tbody>\n",
       "</table>\n",
       "<p>138846 rows × 3 columns</p>\n",
       "</div>"
      ],
      "text/plain": [
       "        lower_bound_ip_address  upper_bound_ip_address    country\n",
       "0                 1.677722e+07                16777471  Australia\n",
       "1                 1.677747e+07                16777727      China\n",
       "2                 1.677773e+07                16778239      China\n",
       "3                 1.677824e+07                16779263  Australia\n",
       "4                 1.677926e+07                16781311      China\n",
       "...                        ...                     ...        ...\n",
       "138841            3.758092e+09              3758093311  Hong Kong\n",
       "138842            3.758093e+09              3758094335      India\n",
       "138843            3.758095e+09              3758095871      China\n",
       "138844            3.758096e+09              3758096127  Singapore\n",
       "138845            3.758096e+09              3758096383  Australia\n",
       "\n",
       "[138846 rows x 3 columns]"
      ]
     },
     "execution_count": 4,
     "metadata": {},
     "output_type": "execute_result"
    }
   ],
   "source": [
    "df2"
   ]
  },
  {
   "cell_type": "markdown",
   "id": "southwest-headline",
   "metadata": {},
   "source": [
    "### Créer une nouvelle colonne `country` en effectuant une jointure entre les deux dataset "
   ]
  },
  {
   "cell_type": "code",
   "execution_count": null,
   "id": "adolescent-increase",
   "metadata": {},
   "outputs": [],
   "source": []
  },
  {
   "cell_type": "markdown",
   "id": "opened-suicide",
   "metadata": {},
   "source": [
    "### Créer une nouvelle variable `time_diff` qui sera la différence entre les variables `purchase_time` et `signup_time`"
   ]
  },
  {
   "cell_type": "code",
   "execution_count": null,
   "id": "driven-implementation",
   "metadata": {},
   "outputs": [],
   "source": []
  },
  {
   "cell_type": "markdown",
   "id": "bigger-grave",
   "metadata": {},
   "source": [
    "### Regroupper les `user_id` par `device_id`  afin d'avoir le nombre de device par client  "
   ]
  },
  {
   "cell_type": "code",
   "execution_count": null,
   "id": "square-token",
   "metadata": {},
   "outputs": [],
   "source": []
  },
  {
   "cell_type": "markdown",
   "id": "compliant-continent",
   "metadata": {},
   "source": [
    "### Faire de même pour les `ip_address` "
   ]
  },
  {
   "cell_type": "code",
   "execution_count": null,
   "id": "dressed-mattress",
   "metadata": {},
   "outputs": [],
   "source": []
  },
  {
   "cell_type": "markdown",
   "id": "occupational-absorption",
   "metadata": {},
   "source": [
    "### Traiter les variables `signup_time` & `purchase_time` afin de les différentier suivant la semaine et le week end  "
   ]
  },
  {
   "cell_type": "code",
   "execution_count": null,
   "id": "sized-ontario",
   "metadata": {},
   "outputs": [],
   "source": []
  },
  {
   "cell_type": "markdown",
   "id": "robust-wisdom",
   "metadata": {},
   "source": [
    "### Définir vos variables de travail (X,y)"
   ]
  },
  {
   "cell_type": "code",
   "execution_count": null,
   "id": "gothic-thailand",
   "metadata": {},
   "outputs": [],
   "source": []
  },
  {
   "cell_type": "markdown",
   "id": "separated-deadline",
   "metadata": {},
   "source": [
    "### Afficher les informations du dataset afin de vizualiser les variables numeriques et categoriques"
   ]
  },
  {
   "cell_type": "code",
   "execution_count": null,
   "id": "attached-conversation",
   "metadata": {},
   "outputs": [],
   "source": []
  },
  {
   "cell_type": "markdown",
   "id": "dependent-sword",
   "metadata": {},
   "source": [
    "### Traiter les variables catégoriques"
   ]
  },
  {
   "cell_type": "code",
   "execution_count": null,
   "id": "descending-mercury",
   "metadata": {},
   "outputs": [],
   "source": []
  },
  {
   "cell_type": "markdown",
   "id": "senior-anatomy",
   "metadata": {},
   "source": [
    "### Spliter vos variables "
   ]
  },
  {
   "cell_type": "code",
   "execution_count": null,
   "id": "numeric-poster",
   "metadata": {},
   "outputs": [],
   "source": []
  },
  {
   "cell_type": "markdown",
   "id": "substantial-perception",
   "metadata": {},
   "source": [
    "### Instancier un `RandomForestClassifier` et l'entrainer sur vos données "
   ]
  },
  {
   "cell_type": "code",
   "execution_count": null,
   "id": "alpine-recorder",
   "metadata": {},
   "outputs": [],
   "source": []
  },
  {
   "cell_type": "markdown",
   "id": "light-dietary",
   "metadata": {},
   "source": [
    "### Afficher l'accuracy moyenne pour 10 'fold cross validation'"
   ]
  },
  {
   "cell_type": "code",
   "execution_count": null,
   "id": "atlantic-screen",
   "metadata": {},
   "outputs": [],
   "source": []
  },
  {
   "cell_type": "markdown",
   "id": "played-brake",
   "metadata": {},
   "source": [
    "### Afficher les `feature_importances_`"
   ]
  },
  {
   "cell_type": "code",
   "execution_count": null,
   "id": "naughty-passion",
   "metadata": {},
   "outputs": [],
   "source": []
  },
  {
   "cell_type": "markdown",
   "id": "legitimate-piano",
   "metadata": {},
   "source": [
    "### Vizualiser les sur un graphique "
   ]
  },
  {
   "cell_type": "code",
   "execution_count": null,
   "id": "integral-automation",
   "metadata": {},
   "outputs": [],
   "source": []
  },
  {
   "cell_type": "markdown",
   "id": "prerequisite-reputation",
   "metadata": {},
   "source": [
    "### Afficher le `Classification report`"
   ]
  },
  {
   "cell_type": "code",
   "execution_count": null,
   "id": "comparable-representative",
   "metadata": {},
   "outputs": [],
   "source": []
  },
  {
   "cell_type": "markdown",
   "id": "material-collectible",
   "metadata": {},
   "source": [
    "### Traçer la courbe AUC "
   ]
  },
  {
   "cell_type": "code",
   "execution_count": null,
   "id": "functional-history",
   "metadata": {},
   "outputs": [],
   "source": []
  },
  {
   "cell_type": "markdown",
   "id": "restricted-protest",
   "metadata": {},
   "source": [
    "### Afficher la matrice de confusion \n",
    "Qu'en pensez vous ? "
   ]
  },
  {
   "cell_type": "code",
   "execution_count": null,
   "id": "driving-morris",
   "metadata": {},
   "outputs": [],
   "source": []
  },
  {
   "cell_type": "markdown",
   "id": "crude-reform",
   "metadata": {},
   "source": [
    "### Faire une selection de certaine variables et spliter vos varibales "
   ]
  },
  {
   "cell_type": "code",
   "execution_count": null,
   "id": "green-cradle",
   "metadata": {},
   "outputs": [],
   "source": []
  },
  {
   "cell_type": "markdown",
   "id": "featured-student",
   "metadata": {},
   "source": [
    "### Entrainer un classifieur `LogisticRegression` sur ces variables "
   ]
  },
  {
   "cell_type": "code",
   "execution_count": null,
   "id": "dependent-coordination",
   "metadata": {},
   "outputs": [],
   "source": []
  }
 ],
 "metadata": {
  "kernelspec": {
   "display_name": "Python 3",
   "language": "python",
   "name": "python3"
  },
  "language_info": {
   "codemirror_mode": {
    "name": "ipython",
    "version": 3
   },
   "file_extension": ".py",
   "mimetype": "text/x-python",
   "name": "python",
   "nbconvert_exporter": "python",
   "pygments_lexer": "ipython3",
   "version": "3.8.2"
  }
 },
 "nbformat": 4,
 "nbformat_minor": 5
}
